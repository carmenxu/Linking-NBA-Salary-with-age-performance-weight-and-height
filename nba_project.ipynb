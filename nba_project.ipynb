{
  "nbformat": 4,
  "nbformat_minor": 0,
  "metadata": {
    "colab": {
      "name": "nba project.ipynb",
      "provenance": [],
      "collapsed_sections": []
    },
    "kernelspec": {
      "name": "python3",
      "display_name": "Python 3"
    }
  },
  "cells": [
    {
      "cell_type": "markdown",
      "metadata": {
        "id": "ZFFU4GTGmEcX"
      },
      "source": [
        "##Predicting NBA Player Salary"
      ]
    },
    {
      "cell_type": "markdown",
      "metadata": {
        "id": "skZppBVQlcgM"
      },
      "source": [
        "> **Authors**\n",
        "- Carmen(Jiawen) Xu (40307688)\n",
        "- Ic Zhang (24130197)"
      ]
    },
    {
      "cell_type": "markdown",
      "metadata": {
        "id": "3KMQbzzk9ApQ"
      },
      "source": [
        "## Introduction\n",
        "We focus on exploring the correlations between NBA player salary data and actual on-court performance(ranked), height, weight and age. We are using the stats from the 2019/2020 regular season on the official NBA Stats site as one of the data sources. Moreover, NBA salary data will be extracted from HoopsHype and Espn. HoopsHype contains player payroll data up to the 2024/25 seasons and we will only need parts of the data and extract the dataset into a pandas Dataframe. We have our data upload to Github."
      ]
    },
    {
      "cell_type": "code",
      "metadata": {
        "id": "DfWaQHwbMo2a"
      },
      "source": [
        "import numpy as np # linear algebra\r\n",
        "import pandas as pd # data processing, CSV file I/O (e.g. pd.read_csv)\r\n",
        "import matplotlib.pyplot as plt\r\n",
        "import seaborn as sns\r\n",
        "from sklearn import linear_model #replicate the figure ourselves"
      ],
      "execution_count": 2,
      "outputs": []
    },
    {
      "cell_type": "markdown",
      "metadata": {
        "id": "1q8-LPewzf_D"
      },
      "source": [
        "## Linking NBA Salary With Performance"
      ]
    },
    {
      "cell_type": "code",
      "metadata": {
        "colab": {
          "base_uri": "https://localhost:8080/",
          "height": 355
        },
        "id": "751yEpR4MtDi",
        "outputId": "e0f5b4aa-e7b3-49cc-fc13-56a5d430e52c"
      },
      "source": [
        "# import the dataframe of the salary of each nba player in 2019/20\r\n",
        "salary = pd.read_csv('https://raw.githubusercontent.com/carmenxu/NBA_players_performance_salary_relevance/main/salary.csv')\r\n",
        "salary.head(10)"
      ],
      "execution_count": 3,
      "outputs": [
        {
          "output_type": "execute_result",
          "data": {
            "text/html": [
              "<div>\n",
              "<style scoped>\n",
              "    .dataframe tbody tr th:only-of-type {\n",
              "        vertical-align: middle;\n",
              "    }\n",
              "\n",
              "    .dataframe tbody tr th {\n",
              "        vertical-align: top;\n",
              "    }\n",
              "\n",
              "    .dataframe thead th {\n",
              "        text-align: right;\n",
              "    }\n",
              "</style>\n",
              "<table border=\"1\" class=\"dataframe\">\n",
              "  <thead>\n",
              "    <tr style=\"text-align: right;\">\n",
              "      <th></th>\n",
              "      <th>Unnamed: 0</th>\n",
              "      <th>Player</th>\n",
              "      <th>2019/20</th>\n",
              "      <th>2019/20(*)</th>\n",
              "    </tr>\n",
              "  </thead>\n",
              "  <tbody>\n",
              "    <tr>\n",
              "      <th>0</th>\n",
              "      <td>1</td>\n",
              "      <td>Stephen Curry</td>\n",
              "      <td>$40,231,758</td>\n",
              "      <td>$40,231,758</td>\n",
              "    </tr>\n",
              "    <tr>\n",
              "      <th>1</th>\n",
              "      <td>2</td>\n",
              "      <td>Russell Westbrook</td>\n",
              "      <td>$38,506,482</td>\n",
              "      <td>$38,506,482</td>\n",
              "    </tr>\n",
              "    <tr>\n",
              "      <th>2</th>\n",
              "      <td>2</td>\n",
              "      <td>Chris Paul</td>\n",
              "      <td>$38,506,482</td>\n",
              "      <td>$38,506,482</td>\n",
              "    </tr>\n",
              "    <tr>\n",
              "      <th>3</th>\n",
              "      <td>4</td>\n",
              "      <td>James Harden</td>\n",
              "      <td>$38,199,000</td>\n",
              "      <td>$38,199,000</td>\n",
              "    </tr>\n",
              "    <tr>\n",
              "      <th>4</th>\n",
              "      <td>4</td>\n",
              "      <td>John Wall</td>\n",
              "      <td>$38,199,000</td>\n",
              "      <td>$38,199,000</td>\n",
              "    </tr>\n",
              "    <tr>\n",
              "      <th>5</th>\n",
              "      <td>6</td>\n",
              "      <td>LeBron James</td>\n",
              "      <td>$37,436,858</td>\n",
              "      <td>$37,436,858</td>\n",
              "    </tr>\n",
              "    <tr>\n",
              "      <th>6</th>\n",
              "      <td>7</td>\n",
              "      <td>Kevin Durant</td>\n",
              "      <td>$37,199,000</td>\n",
              "      <td>$37,199,000</td>\n",
              "    </tr>\n",
              "    <tr>\n",
              "      <th>7</th>\n",
              "      <td>8</td>\n",
              "      <td>Blake Griffin</td>\n",
              "      <td>$34,449,964</td>\n",
              "      <td>$34,449,964</td>\n",
              "    </tr>\n",
              "    <tr>\n",
              "      <th>8</th>\n",
              "      <td>9</td>\n",
              "      <td>Kyle Lowry</td>\n",
              "      <td>$33,296,296</td>\n",
              "      <td>$33,296,296</td>\n",
              "    </tr>\n",
              "    <tr>\n",
              "      <th>9</th>\n",
              "      <td>10</td>\n",
              "      <td>Paul George</td>\n",
              "      <td>$33,005,556</td>\n",
              "      <td>$33,005,556</td>\n",
              "    </tr>\n",
              "  </tbody>\n",
              "</table>\n",
              "</div>"
            ],
            "text/plain": [
              "   Unnamed: 0             Player      2019/20   2019/20(*)\n",
              "0           1      Stephen Curry  $40,231,758  $40,231,758\n",
              "1           2  Russell Westbrook  $38,506,482  $38,506,482\n",
              "2           2         Chris Paul  $38,506,482  $38,506,482\n",
              "3           4       James Harden  $38,199,000  $38,199,000\n",
              "4           4          John Wall  $38,199,000  $38,199,000\n",
              "5           6       LeBron James  $37,436,858  $37,436,858\n",
              "6           7       Kevin Durant  $37,199,000  $37,199,000\n",
              "7           8      Blake Griffin  $34,449,964  $34,449,964\n",
              "8           9         Kyle Lowry  $33,296,296  $33,296,296\n",
              "9          10        Paul George  $33,005,556  $33,005,556"
            ]
          },
          "metadata": {
            "tags": []
          },
          "execution_count": 3
        }
      ]
    },
    {
      "cell_type": "code",
      "metadata": {
        "colab": {
          "base_uri": "https://localhost:8080/",
          "height": 566
        },
        "id": "9bhOrIoJMz6n",
        "outputId": "25eb53d3-cac5-476f-e86a-4003e17f28d7"
      },
      "source": [
        "# import the game points, ranking, age of each NBA player \r\n",
        "player_total = pd.read_csv('https://raw.githubusercontent.com/carmenxu/NBA_player_total/main/convertcsv.csv')\r\n",
        "player_total.head(10)\r\n",
        "\r\n"
      ],
      "execution_count": 4,
      "outputs": [
        {
          "output_type": "execute_result",
          "data": {
            "text/html": [
              "<div>\n",
              "<style scoped>\n",
              "    .dataframe tbody tr th:only-of-type {\n",
              "        vertical-align: middle;\n",
              "    }\n",
              "\n",
              "    .dataframe tbody tr th {\n",
              "        vertical-align: top;\n",
              "    }\n",
              "\n",
              "    .dataframe thead th {\n",
              "        text-align: right;\n",
              "    }\n",
              "</style>\n",
              "<table border=\"1\" class=\"dataframe\">\n",
              "  <thead>\n",
              "    <tr style=\"text-align: right;\">\n",
              "      <th></th>\n",
              "      <th>Rk</th>\n",
              "      <th>Player</th>\n",
              "      <th>Pos</th>\n",
              "      <th>Age</th>\n",
              "      <th>Tm</th>\n",
              "      <th>G</th>\n",
              "      <th>GS</th>\n",
              "      <th>MP</th>\n",
              "      <th>FG</th>\n",
              "      <th>FGA</th>\n",
              "      <th>FG%</th>\n",
              "      <th>3P</th>\n",
              "      <th>3PA</th>\n",
              "      <th>3P%</th>\n",
              "      <th>2P</th>\n",
              "      <th>2PA</th>\n",
              "      <th>2P%</th>\n",
              "      <th>eFG%</th>\n",
              "      <th>FT</th>\n",
              "      <th>FTA</th>\n",
              "      <th>FT%</th>\n",
              "      <th>ORB</th>\n",
              "      <th>DRB</th>\n",
              "      <th>TRB</th>\n",
              "      <th>AST</th>\n",
              "      <th>STL</th>\n",
              "      <th>BLK</th>\n",
              "      <th>TOV</th>\n",
              "      <th>PF</th>\n",
              "      <th>PTS</th>\n",
              "    </tr>\n",
              "  </thead>\n",
              "  <tbody>\n",
              "    <tr>\n",
              "      <th>0</th>\n",
              "      <td>1</td>\n",
              "      <td>Steven Adams</td>\n",
              "      <td>C</td>\n",
              "      <td>26</td>\n",
              "      <td>OKC</td>\n",
              "      <td>63</td>\n",
              "      <td>63</td>\n",
              "      <td>1680</td>\n",
              "      <td>283</td>\n",
              "      <td>478</td>\n",
              "      <td>.592</td>\n",
              "      <td>1</td>\n",
              "      <td>3</td>\n",
              "      <td>.333</td>\n",
              "      <td>282</td>\n",
              "      <td>475</td>\n",
              "      <td>.594</td>\n",
              "      <td>.593</td>\n",
              "      <td>117</td>\n",
              "      <td>201</td>\n",
              "      <td>.582</td>\n",
              "      <td>207</td>\n",
              "      <td>376</td>\n",
              "      <td>583</td>\n",
              "      <td>146</td>\n",
              "      <td>51</td>\n",
              "      <td>67</td>\n",
              "      <td>94</td>\n",
              "      <td>122</td>\n",
              "      <td>684</td>\n",
              "    </tr>\n",
              "    <tr>\n",
              "      <th>1</th>\n",
              "      <td>2</td>\n",
              "      <td>Bam Adebayo</td>\n",
              "      <td>PF</td>\n",
              "      <td>22</td>\n",
              "      <td>MIA</td>\n",
              "      <td>72</td>\n",
              "      <td>72</td>\n",
              "      <td>2417</td>\n",
              "      <td>440</td>\n",
              "      <td>790</td>\n",
              "      <td>.557</td>\n",
              "      <td>2</td>\n",
              "      <td>14</td>\n",
              "      <td>.143</td>\n",
              "      <td>438</td>\n",
              "      <td>776</td>\n",
              "      <td>.564</td>\n",
              "      <td>.558</td>\n",
              "      <td>264</td>\n",
              "      <td>382</td>\n",
              "      <td>.691</td>\n",
              "      <td>176</td>\n",
              "      <td>559</td>\n",
              "      <td>735</td>\n",
              "      <td>368</td>\n",
              "      <td>82</td>\n",
              "      <td>93</td>\n",
              "      <td>204</td>\n",
              "      <td>182</td>\n",
              "      <td>1146</td>\n",
              "    </tr>\n",
              "    <tr>\n",
              "      <th>2</th>\n",
              "      <td>3</td>\n",
              "      <td>LaMarcus Aldridge</td>\n",
              "      <td>C</td>\n",
              "      <td>34</td>\n",
              "      <td>SAS</td>\n",
              "      <td>53</td>\n",
              "      <td>53</td>\n",
              "      <td>1754</td>\n",
              "      <td>391</td>\n",
              "      <td>793</td>\n",
              "      <td>.493</td>\n",
              "      <td>61</td>\n",
              "      <td>157</td>\n",
              "      <td>.389</td>\n",
              "      <td>330</td>\n",
              "      <td>636</td>\n",
              "      <td>.519</td>\n",
              "      <td>.532</td>\n",
              "      <td>158</td>\n",
              "      <td>191</td>\n",
              "      <td>.827</td>\n",
              "      <td>103</td>\n",
              "      <td>289</td>\n",
              "      <td>392</td>\n",
              "      <td>129</td>\n",
              "      <td>36</td>\n",
              "      <td>87</td>\n",
              "      <td>74</td>\n",
              "      <td>128</td>\n",
              "      <td>1001</td>\n",
              "    </tr>\n",
              "    <tr>\n",
              "      <th>3</th>\n",
              "      <td>4</td>\n",
              "      <td>Kyle Alexander</td>\n",
              "      <td>C</td>\n",
              "      <td>23</td>\n",
              "      <td>MIA</td>\n",
              "      <td>2</td>\n",
              "      <td>0</td>\n",
              "      <td>13</td>\n",
              "      <td>1</td>\n",
              "      <td>2</td>\n",
              "      <td>.500</td>\n",
              "      <td>0</td>\n",
              "      <td>0</td>\n",
              "      <td>NaN</td>\n",
              "      <td>1</td>\n",
              "      <td>2</td>\n",
              "      <td>.500</td>\n",
              "      <td>.500</td>\n",
              "      <td>0</td>\n",
              "      <td>0</td>\n",
              "      <td>NaN</td>\n",
              "      <td>2</td>\n",
              "      <td>1</td>\n",
              "      <td>3</td>\n",
              "      <td>0</td>\n",
              "      <td>0</td>\n",
              "      <td>0</td>\n",
              "      <td>1</td>\n",
              "      <td>1</td>\n",
              "      <td>2</td>\n",
              "    </tr>\n",
              "    <tr>\n",
              "      <th>4</th>\n",
              "      <td>5</td>\n",
              "      <td>Nickeil Alexander-Walker</td>\n",
              "      <td>SG</td>\n",
              "      <td>21</td>\n",
              "      <td>NOP</td>\n",
              "      <td>47</td>\n",
              "      <td>1</td>\n",
              "      <td>591</td>\n",
              "      <td>98</td>\n",
              "      <td>266</td>\n",
              "      <td>.368</td>\n",
              "      <td>46</td>\n",
              "      <td>133</td>\n",
              "      <td>.346</td>\n",
              "      <td>52</td>\n",
              "      <td>133</td>\n",
              "      <td>.391</td>\n",
              "      <td>.455</td>\n",
              "      <td>25</td>\n",
              "      <td>37</td>\n",
              "      <td>.676</td>\n",
              "      <td>9</td>\n",
              "      <td>75</td>\n",
              "      <td>84</td>\n",
              "      <td>89</td>\n",
              "      <td>17</td>\n",
              "      <td>8</td>\n",
              "      <td>54</td>\n",
              "      <td>57</td>\n",
              "      <td>267</td>\n",
              "    </tr>\n",
              "    <tr>\n",
              "      <th>5</th>\n",
              "      <td>6</td>\n",
              "      <td>Grayson Allen</td>\n",
              "      <td>SG</td>\n",
              "      <td>24</td>\n",
              "      <td>MEM</td>\n",
              "      <td>38</td>\n",
              "      <td>0</td>\n",
              "      <td>718</td>\n",
              "      <td>117</td>\n",
              "      <td>251</td>\n",
              "      <td>.466</td>\n",
              "      <td>57</td>\n",
              "      <td>141</td>\n",
              "      <td>.404</td>\n",
              "      <td>60</td>\n",
              "      <td>110</td>\n",
              "      <td>.545</td>\n",
              "      <td>.580</td>\n",
              "      <td>39</td>\n",
              "      <td>45</td>\n",
              "      <td>.867</td>\n",
              "      <td>8</td>\n",
              "      <td>77</td>\n",
              "      <td>85</td>\n",
              "      <td>52</td>\n",
              "      <td>10</td>\n",
              "      <td>2</td>\n",
              "      <td>33</td>\n",
              "      <td>53</td>\n",
              "      <td>330</td>\n",
              "    </tr>\n",
              "    <tr>\n",
              "      <th>6</th>\n",
              "      <td>7</td>\n",
              "      <td>Jarrett Allen</td>\n",
              "      <td>C</td>\n",
              "      <td>21</td>\n",
              "      <td>BRK</td>\n",
              "      <td>70</td>\n",
              "      <td>64</td>\n",
              "      <td>1852</td>\n",
              "      <td>302</td>\n",
              "      <td>465</td>\n",
              "      <td>.649</td>\n",
              "      <td>0</td>\n",
              "      <td>6</td>\n",
              "      <td>.000</td>\n",
              "      <td>302</td>\n",
              "      <td>459</td>\n",
              "      <td>.658</td>\n",
              "      <td>.649</td>\n",
              "      <td>171</td>\n",
              "      <td>270</td>\n",
              "      <td>.633</td>\n",
              "      <td>216</td>\n",
              "      <td>455</td>\n",
              "      <td>671</td>\n",
              "      <td>110</td>\n",
              "      <td>40</td>\n",
              "      <td>92</td>\n",
              "      <td>77</td>\n",
              "      <td>162</td>\n",
              "      <td>775</td>\n",
              "    </tr>\n",
              "    <tr>\n",
              "      <th>7</th>\n",
              "      <td>8</td>\n",
              "      <td>Kadeem Allen</td>\n",
              "      <td>PG</td>\n",
              "      <td>27</td>\n",
              "      <td>NYK</td>\n",
              "      <td>10</td>\n",
              "      <td>0</td>\n",
              "      <td>117</td>\n",
              "      <td>19</td>\n",
              "      <td>44</td>\n",
              "      <td>.432</td>\n",
              "      <td>5</td>\n",
              "      <td>16</td>\n",
              "      <td>.313</td>\n",
              "      <td>14</td>\n",
              "      <td>28</td>\n",
              "      <td>.500</td>\n",
              "      <td>.489</td>\n",
              "      <td>7</td>\n",
              "      <td>11</td>\n",
              "      <td>.636</td>\n",
              "      <td>2</td>\n",
              "      <td>7</td>\n",
              "      <td>9</td>\n",
              "      <td>21</td>\n",
              "      <td>5</td>\n",
              "      <td>2</td>\n",
              "      <td>8</td>\n",
              "      <td>7</td>\n",
              "      <td>50</td>\n",
              "    </tr>\n",
              "    <tr>\n",
              "      <th>8</th>\n",
              "      <td>9</td>\n",
              "      <td>Al-Farouq Aminu</td>\n",
              "      <td>PF</td>\n",
              "      <td>29</td>\n",
              "      <td>ORL</td>\n",
              "      <td>18</td>\n",
              "      <td>2</td>\n",
              "      <td>380</td>\n",
              "      <td>25</td>\n",
              "      <td>86</td>\n",
              "      <td>.291</td>\n",
              "      <td>9</td>\n",
              "      <td>36</td>\n",
              "      <td>.250</td>\n",
              "      <td>16</td>\n",
              "      <td>50</td>\n",
              "      <td>.320</td>\n",
              "      <td>.343</td>\n",
              "      <td>19</td>\n",
              "      <td>29</td>\n",
              "      <td>.655</td>\n",
              "      <td>24</td>\n",
              "      <td>63</td>\n",
              "      <td>87</td>\n",
              "      <td>21</td>\n",
              "      <td>18</td>\n",
              "      <td>8</td>\n",
              "      <td>17</td>\n",
              "      <td>27</td>\n",
              "      <td>78</td>\n",
              "    </tr>\n",
              "    <tr>\n",
              "      <th>9</th>\n",
              "      <td>10</td>\n",
              "      <td>Justin Anderson</td>\n",
              "      <td>SG</td>\n",
              "      <td>26</td>\n",
              "      <td>BRK</td>\n",
              "      <td>10</td>\n",
              "      <td>1</td>\n",
              "      <td>107</td>\n",
              "      <td>10</td>\n",
              "      <td>38</td>\n",
              "      <td>.263</td>\n",
              "      <td>6</td>\n",
              "      <td>29</td>\n",
              "      <td>.207</td>\n",
              "      <td>4</td>\n",
              "      <td>9</td>\n",
              "      <td>.444</td>\n",
              "      <td>.342</td>\n",
              "      <td>2</td>\n",
              "      <td>4</td>\n",
              "      <td>.500</td>\n",
              "      <td>1</td>\n",
              "      <td>20</td>\n",
              "      <td>21</td>\n",
              "      <td>8</td>\n",
              "      <td>0</td>\n",
              "      <td>6</td>\n",
              "      <td>4</td>\n",
              "      <td>13</td>\n",
              "      <td>28</td>\n",
              "    </tr>\n",
              "  </tbody>\n",
              "</table>\n",
              "</div>"
            ],
            "text/plain": [
              "   Rk                    Player Pos Age   Tm   G  ...  AST STL BLK  TOV   PF   PTS\n",
              "0   1              Steven Adams   C  26  OKC  63  ...  146  51  67   94  122   684\n",
              "1   2               Bam Adebayo  PF  22  MIA  72  ...  368  82  93  204  182  1146\n",
              "2   3         LaMarcus Aldridge   C  34  SAS  53  ...  129  36  87   74  128  1001\n",
              "3   4            Kyle Alexander   C  23  MIA   2  ...    0   0   0    1    1     2\n",
              "4   5  Nickeil Alexander-Walker  SG  21  NOP  47  ...   89  17   8   54   57   267\n",
              "5   6             Grayson Allen  SG  24  MEM  38  ...   52  10   2   33   53   330\n",
              "6   7             Jarrett Allen   C  21  BRK  70  ...  110  40  92   77  162   775\n",
              "7   8              Kadeem Allen  PG  27  NYK  10  ...   21   5   2    8    7    50\n",
              "8   9           Al-Farouq Aminu  PF  29  ORL  18  ...   21  18   8   17   27    78\n",
              "9  10           Justin Anderson  SG  26  BRK  10  ...    8   0   6    4   13    28\n",
              "\n",
              "[10 rows x 30 columns]"
            ]
          },
          "metadata": {
            "tags": []
          },
          "execution_count": 4
        }
      ]
    },
    {
      "cell_type": "code",
      "metadata": {
        "colab": {
          "base_uri": "https://localhost:8080/",
          "height": 531
        },
        "id": "YesxdnrBNTx9",
        "outputId": "6260f824-d4be-48ff-ccdd-f2c8567c9a64"
      },
      "source": [
        "# combine two data frames into one\r\n",
        "df = pd.merge(salary,player_total,on = 'Player', how='left')\r\n",
        "df.drop('2019/20(*)',axis=1,inplace=True)\r\n",
        "df.head(10)\r\n"
      ],
      "execution_count": 5,
      "outputs": [
        {
          "output_type": "execute_result",
          "data": {
            "text/html": [
              "<div>\n",
              "<style scoped>\n",
              "    .dataframe tbody tr th:only-of-type {\n",
              "        vertical-align: middle;\n",
              "    }\n",
              "\n",
              "    .dataframe tbody tr th {\n",
              "        vertical-align: top;\n",
              "    }\n",
              "\n",
              "    .dataframe thead th {\n",
              "        text-align: right;\n",
              "    }\n",
              "</style>\n",
              "<table border=\"1\" class=\"dataframe\">\n",
              "  <thead>\n",
              "    <tr style=\"text-align: right;\">\n",
              "      <th></th>\n",
              "      <th>Unnamed: 0</th>\n",
              "      <th>Player</th>\n",
              "      <th>2019/20</th>\n",
              "      <th>Rk</th>\n",
              "      <th>Pos</th>\n",
              "      <th>Age</th>\n",
              "      <th>Tm</th>\n",
              "      <th>G</th>\n",
              "      <th>GS</th>\n",
              "      <th>MP</th>\n",
              "      <th>FG</th>\n",
              "      <th>FGA</th>\n",
              "      <th>FG%</th>\n",
              "      <th>3P</th>\n",
              "      <th>3PA</th>\n",
              "      <th>3P%</th>\n",
              "      <th>2P</th>\n",
              "      <th>2PA</th>\n",
              "      <th>2P%</th>\n",
              "      <th>eFG%</th>\n",
              "      <th>FT</th>\n",
              "      <th>FTA</th>\n",
              "      <th>FT%</th>\n",
              "      <th>ORB</th>\n",
              "      <th>DRB</th>\n",
              "      <th>TRB</th>\n",
              "      <th>AST</th>\n",
              "      <th>STL</th>\n",
              "      <th>BLK</th>\n",
              "      <th>TOV</th>\n",
              "      <th>PF</th>\n",
              "      <th>PTS</th>\n",
              "    </tr>\n",
              "  </thead>\n",
              "  <tbody>\n",
              "    <tr>\n",
              "      <th>0</th>\n",
              "      <td>1</td>\n",
              "      <td>Stephen Curry</td>\n",
              "      <td>$40,231,758</td>\n",
              "      <td>121</td>\n",
              "      <td>PG</td>\n",
              "      <td>31</td>\n",
              "      <td>GSW</td>\n",
              "      <td>5</td>\n",
              "      <td>5</td>\n",
              "      <td>139</td>\n",
              "      <td>33</td>\n",
              "      <td>82</td>\n",
              "      <td>.402</td>\n",
              "      <td>12</td>\n",
              "      <td>49</td>\n",
              "      <td>.245</td>\n",
              "      <td>21</td>\n",
              "      <td>33</td>\n",
              "      <td>.636</td>\n",
              "      <td>.476</td>\n",
              "      <td>26</td>\n",
              "      <td>26</td>\n",
              "      <td>1.000</td>\n",
              "      <td>4</td>\n",
              "      <td>22</td>\n",
              "      <td>26</td>\n",
              "      <td>33</td>\n",
              "      <td>5</td>\n",
              "      <td>2</td>\n",
              "      <td>16</td>\n",
              "      <td>11</td>\n",
              "      <td>104</td>\n",
              "    </tr>\n",
              "    <tr>\n",
              "      <th>1</th>\n",
              "      <td>2</td>\n",
              "      <td>Russell Westbrook</td>\n",
              "      <td>$38,506,482</td>\n",
              "      <td>506</td>\n",
              "      <td>PG</td>\n",
              "      <td>31</td>\n",
              "      <td>HOU</td>\n",
              "      <td>57</td>\n",
              "      <td>57</td>\n",
              "      <td>2049</td>\n",
              "      <td>604</td>\n",
              "      <td>1281</td>\n",
              "      <td>.472</td>\n",
              "      <td>55</td>\n",
              "      <td>213</td>\n",
              "      <td>.258</td>\n",
              "      <td>549</td>\n",
              "      <td>1068</td>\n",
              "      <td>.514</td>\n",
              "      <td>.493</td>\n",
              "      <td>290</td>\n",
              "      <td>380</td>\n",
              "      <td>.763</td>\n",
              "      <td>100</td>\n",
              "      <td>351</td>\n",
              "      <td>451</td>\n",
              "      <td>401</td>\n",
              "      <td>93</td>\n",
              "      <td>20</td>\n",
              "      <td>255</td>\n",
              "      <td>200</td>\n",
              "      <td>1553</td>\n",
              "    </tr>\n",
              "    <tr>\n",
              "      <th>2</th>\n",
              "      <td>2</td>\n",
              "      <td>Chris Paul</td>\n",
              "      <td>$38,506,482</td>\n",
              "      <td>396</td>\n",
              "      <td>PG</td>\n",
              "      <td>34</td>\n",
              "      <td>OKC</td>\n",
              "      <td>70</td>\n",
              "      <td>70</td>\n",
              "      <td>2208</td>\n",
              "      <td>434</td>\n",
              "      <td>887</td>\n",
              "      <td>.489</td>\n",
              "      <td>111</td>\n",
              "      <td>304</td>\n",
              "      <td>.365</td>\n",
              "      <td>323</td>\n",
              "      <td>583</td>\n",
              "      <td>.554</td>\n",
              "      <td>.552</td>\n",
              "      <td>253</td>\n",
              "      <td>279</td>\n",
              "      <td>.907</td>\n",
              "      <td>26</td>\n",
              "      <td>323</td>\n",
              "      <td>349</td>\n",
              "      <td>472</td>\n",
              "      <td>111</td>\n",
              "      <td>11</td>\n",
              "      <td>161</td>\n",
              "      <td>158</td>\n",
              "      <td>1232</td>\n",
              "    </tr>\n",
              "    <tr>\n",
              "      <th>3</th>\n",
              "      <td>4</td>\n",
              "      <td>James Harden</td>\n",
              "      <td>$38,199,000</td>\n",
              "      <td>198</td>\n",
              "      <td>SG</td>\n",
              "      <td>30</td>\n",
              "      <td>HOU</td>\n",
              "      <td>68</td>\n",
              "      <td>68</td>\n",
              "      <td>2483</td>\n",
              "      <td>672</td>\n",
              "      <td>1514</td>\n",
              "      <td>.444</td>\n",
              "      <td>299</td>\n",
              "      <td>843</td>\n",
              "      <td>.355</td>\n",
              "      <td>373</td>\n",
              "      <td>671</td>\n",
              "      <td>.556</td>\n",
              "      <td>.543</td>\n",
              "      <td>692</td>\n",
              "      <td>800</td>\n",
              "      <td>.865</td>\n",
              "      <td>70</td>\n",
              "      <td>376</td>\n",
              "      <td>446</td>\n",
              "      <td>512</td>\n",
              "      <td>125</td>\n",
              "      <td>60</td>\n",
              "      <td>308</td>\n",
              "      <td>227</td>\n",
              "      <td>2335</td>\n",
              "    </tr>\n",
              "    <tr>\n",
              "      <th>4</th>\n",
              "      <td>4</td>\n",
              "      <td>John Wall</td>\n",
              "      <td>$38,199,000</td>\n",
              "      <td>NaN</td>\n",
              "      <td>NaN</td>\n",
              "      <td>NaN</td>\n",
              "      <td>NaN</td>\n",
              "      <td>NaN</td>\n",
              "      <td>NaN</td>\n",
              "      <td>NaN</td>\n",
              "      <td>NaN</td>\n",
              "      <td>NaN</td>\n",
              "      <td>NaN</td>\n",
              "      <td>NaN</td>\n",
              "      <td>NaN</td>\n",
              "      <td>NaN</td>\n",
              "      <td>NaN</td>\n",
              "      <td>NaN</td>\n",
              "      <td>NaN</td>\n",
              "      <td>NaN</td>\n",
              "      <td>NaN</td>\n",
              "      <td>NaN</td>\n",
              "      <td>NaN</td>\n",
              "      <td>NaN</td>\n",
              "      <td>NaN</td>\n",
              "      <td>NaN</td>\n",
              "      <td>NaN</td>\n",
              "      <td>NaN</td>\n",
              "      <td>NaN</td>\n",
              "      <td>NaN</td>\n",
              "      <td>NaN</td>\n",
              "      <td>NaN</td>\n",
              "    </tr>\n",
              "    <tr>\n",
              "      <th>5</th>\n",
              "      <td>6</td>\n",
              "      <td>LeBron James</td>\n",
              "      <td>$37,436,858</td>\n",
              "      <td>250</td>\n",
              "      <td>PG</td>\n",
              "      <td>35</td>\n",
              "      <td>LAL</td>\n",
              "      <td>67</td>\n",
              "      <td>67</td>\n",
              "      <td>2316</td>\n",
              "      <td>643</td>\n",
              "      <td>1303</td>\n",
              "      <td>.493</td>\n",
              "      <td>148</td>\n",
              "      <td>425</td>\n",
              "      <td>.348</td>\n",
              "      <td>495</td>\n",
              "      <td>878</td>\n",
              "      <td>.564</td>\n",
              "      <td>.550</td>\n",
              "      <td>264</td>\n",
              "      <td>381</td>\n",
              "      <td>.693</td>\n",
              "      <td>66</td>\n",
              "      <td>459</td>\n",
              "      <td>525</td>\n",
              "      <td>684</td>\n",
              "      <td>78</td>\n",
              "      <td>36</td>\n",
              "      <td>261</td>\n",
              "      <td>118</td>\n",
              "      <td>1698</td>\n",
              "    </tr>\n",
              "    <tr>\n",
              "      <th>6</th>\n",
              "      <td>7</td>\n",
              "      <td>Kevin Durant</td>\n",
              "      <td>$37,199,000</td>\n",
              "      <td>NaN</td>\n",
              "      <td>NaN</td>\n",
              "      <td>NaN</td>\n",
              "      <td>NaN</td>\n",
              "      <td>NaN</td>\n",
              "      <td>NaN</td>\n",
              "      <td>NaN</td>\n",
              "      <td>NaN</td>\n",
              "      <td>NaN</td>\n",
              "      <td>NaN</td>\n",
              "      <td>NaN</td>\n",
              "      <td>NaN</td>\n",
              "      <td>NaN</td>\n",
              "      <td>NaN</td>\n",
              "      <td>NaN</td>\n",
              "      <td>NaN</td>\n",
              "      <td>NaN</td>\n",
              "      <td>NaN</td>\n",
              "      <td>NaN</td>\n",
              "      <td>NaN</td>\n",
              "      <td>NaN</td>\n",
              "      <td>NaN</td>\n",
              "      <td>NaN</td>\n",
              "      <td>NaN</td>\n",
              "      <td>NaN</td>\n",
              "      <td>NaN</td>\n",
              "      <td>NaN</td>\n",
              "      <td>NaN</td>\n",
              "      <td>NaN</td>\n",
              "    </tr>\n",
              "    <tr>\n",
              "      <th>7</th>\n",
              "      <td>8</td>\n",
              "      <td>Blake Griffin</td>\n",
              "      <td>$34,449,964</td>\n",
              "      <td>190</td>\n",
              "      <td>PF</td>\n",
              "      <td>30</td>\n",
              "      <td>DET</td>\n",
              "      <td>18</td>\n",
              "      <td>18</td>\n",
              "      <td>512</td>\n",
              "      <td>88</td>\n",
              "      <td>250</td>\n",
              "      <td>.352</td>\n",
              "      <td>27</td>\n",
              "      <td>111</td>\n",
              "      <td>.243</td>\n",
              "      <td>61</td>\n",
              "      <td>139</td>\n",
              "      <td>.439</td>\n",
              "      <td>.406</td>\n",
              "      <td>76</td>\n",
              "      <td>98</td>\n",
              "      <td>.776</td>\n",
              "      <td>17</td>\n",
              "      <td>67</td>\n",
              "      <td>84</td>\n",
              "      <td>59</td>\n",
              "      <td>7</td>\n",
              "      <td>7</td>\n",
              "      <td>40</td>\n",
              "      <td>27</td>\n",
              "      <td>279</td>\n",
              "    </tr>\n",
              "    <tr>\n",
              "      <th>8</th>\n",
              "      <td>9</td>\n",
              "      <td>Kyle Lowry</td>\n",
              "      <td>$33,296,296</td>\n",
              "      <td>303</td>\n",
              "      <td>PG</td>\n",
              "      <td>33</td>\n",
              "      <td>TOR</td>\n",
              "      <td>58</td>\n",
              "      <td>58</td>\n",
              "      <td>2098</td>\n",
              "      <td>334</td>\n",
              "      <td>803</td>\n",
              "      <td>.416</td>\n",
              "      <td>164</td>\n",
              "      <td>466</td>\n",
              "      <td>.352</td>\n",
              "      <td>170</td>\n",
              "      <td>337</td>\n",
              "      <td>.504</td>\n",
              "      <td>.518</td>\n",
              "      <td>294</td>\n",
              "      <td>343</td>\n",
              "      <td>.857</td>\n",
              "      <td>32</td>\n",
              "      <td>260</td>\n",
              "      <td>292</td>\n",
              "      <td>433</td>\n",
              "      <td>82</td>\n",
              "      <td>26</td>\n",
              "      <td>178</td>\n",
              "      <td>190</td>\n",
              "      <td>1126</td>\n",
              "    </tr>\n",
              "    <tr>\n",
              "      <th>9</th>\n",
              "      <td>10</td>\n",
              "      <td>Paul George</td>\n",
              "      <td>$33,005,556</td>\n",
              "      <td>172</td>\n",
              "      <td>SG</td>\n",
              "      <td>29</td>\n",
              "      <td>LAC</td>\n",
              "      <td>48</td>\n",
              "      <td>48</td>\n",
              "      <td>1419</td>\n",
              "      <td>343</td>\n",
              "      <td>782</td>\n",
              "      <td>.439</td>\n",
              "      <td>157</td>\n",
              "      <td>381</td>\n",
              "      <td>.412</td>\n",
              "      <td>186</td>\n",
              "      <td>401</td>\n",
              "      <td>.464</td>\n",
              "      <td>.539</td>\n",
              "      <td>190</td>\n",
              "      <td>217</td>\n",
              "      <td>.876</td>\n",
              "      <td>24</td>\n",
              "      <td>248</td>\n",
              "      <td>272</td>\n",
              "      <td>185</td>\n",
              "      <td>68</td>\n",
              "      <td>20</td>\n",
              "      <td>125</td>\n",
              "      <td>113</td>\n",
              "      <td>1033</td>\n",
              "    </tr>\n",
              "  </tbody>\n",
              "</table>\n",
              "</div>"
            ],
            "text/plain": [
              "   Unnamed: 0             Player      2019/20   Rk  ...  BLK  TOV   PF   PTS\n",
              "0           1      Stephen Curry  $40,231,758  121  ...    2   16   11   104\n",
              "1           2  Russell Westbrook  $38,506,482  506  ...   20  255  200  1553\n",
              "2           2         Chris Paul  $38,506,482  396  ...   11  161  158  1232\n",
              "3           4       James Harden  $38,199,000  198  ...   60  308  227  2335\n",
              "4           4          John Wall  $38,199,000  NaN  ...  NaN  NaN  NaN   NaN\n",
              "5           6       LeBron James  $37,436,858  250  ...   36  261  118  1698\n",
              "6           7       Kevin Durant  $37,199,000  NaN  ...  NaN  NaN  NaN   NaN\n",
              "7           8      Blake Griffin  $34,449,964  190  ...    7   40   27   279\n",
              "8           9         Kyle Lowry  $33,296,296  303  ...   26  178  190  1126\n",
              "9          10        Paul George  $33,005,556  172  ...   20  125  113  1033\n",
              "\n",
              "[10 rows x 32 columns]"
            ]
          },
          "metadata": {
            "tags": []
          },
          "execution_count": 5
        }
      ]
    },
    {
      "cell_type": "code",
      "metadata": {
        "colab": {
          "base_uri": "https://localhost:8080/"
        },
        "id": "YwaYj53_Offo",
        "outputId": "c092e50e-1c0a-4454-e5d0-f5d599738057"
      },
      "source": [
        "df['2019/20'].describe()"
      ],
      "execution_count": 6,
      "outputs": [
        {
          "output_type": "execute_result",
          "data": {
            "text/plain": [
              "count         623\n",
              "unique        326\n",
              "top       $79,568\n",
              "freq           56\n",
              "Name: 2019/20, dtype: object"
            ]
          },
          "metadata": {
            "tags": []
          },
          "execution_count": 6
        }
      ]
    },
    {
      "cell_type": "code",
      "metadata": {
        "colab": {
          "base_uri": "https://localhost:8080/",
          "height": 279
        },
        "id": "ne5l_9nTNW5s",
        "outputId": "601b1e7b-f7c4-4cc4-b8c2-34791a25317a"
      },
      "source": [
        "plt.hist(df['2019/20'],density=True,bins=50)\n",
        "\n",
        "plt.xlabel('2019-2020 Salary')\n",
        "plt.ylabel('Density')\n",
        "plt.show()"
      ],
      "execution_count": 7,
      "outputs": [
        {
          "output_type": "display_data",
          "data": {
            "image/png": "[encoded data removed]",
            "text/plain": [
              "<Figure size 432x288 with 1 Axes>"
            ]
          },
          "metadata": {
            "tags": [],
            "needs_background": "light"
          }
        }
      ]
    },
    {
      "cell_type": "markdown",
      "metadata": {
        "id": "tcSShULFiRbC"
      },
      "source": [
        "# Salary and Ranked"
      ]
    },
    {
      "cell_type": "code",
      "metadata": {
        "colab": {
          "base_uri": "https://localhost:8080/",
          "height": 415
        },
        "id": "ERAa4bnYPCKb",
        "outputId": "9c469605-d85d-4d07-8f34-6bb997068fb6"
      },
      "source": [
        "# create a new table, and only keep the columns we need\r\n",
        "ndf=df[['2019/20','Rk']]\r\n",
        "ndf"
      ],
      "execution_count": 8,
      "outputs": [
        {
          "output_type": "execute_result",
          "data": {
            "text/html": [
              "<div>\n",
              "<style scoped>\n",
              "    .dataframe tbody tr th:only-of-type {\n",
              "        vertical-align: middle;\n",
              "    }\n",
              "\n",
              "    .dataframe tbody tr th {\n",
              "        vertical-align: top;\n",
              "    }\n",
              "\n",
              "    .dataframe thead th {\n",
              "        text-align: right;\n",
              "    }\n",
              "</style>\n",
              "<table border=\"1\" class=\"dataframe\">\n",
              "  <thead>\n",
              "    <tr style=\"text-align: right;\">\n",
              "      <th></th>\n",
              "      <th>2019/20</th>\n",
              "      <th>Rk</th>\n",
              "    </tr>\n",
              "  </thead>\n",
              "  <tbody>\n",
              "    <tr>\n",
              "      <th>0</th>\n",
              "      <td>$40,231,758</td>\n",
              "      <td>121</td>\n",
              "    </tr>\n",
              "    <tr>\n",
              "      <th>1</th>\n",
              "      <td>$38,506,482</td>\n",
              "      <td>506</td>\n",
              "    </tr>\n",
              "    <tr>\n",
              "      <th>2</th>\n",
              "      <td>$38,506,482</td>\n",
              "      <td>396</td>\n",
              "    </tr>\n",
              "    <tr>\n",
              "      <th>3</th>\n",
              "      <td>$38,199,000</td>\n",
              "      <td>198</td>\n",
              "    </tr>\n",
              "    <tr>\n",
              "      <th>4</th>\n",
              "      <td>$38,199,000</td>\n",
              "      <td>NaN</td>\n",
              "    </tr>\n",
              "    <tr>\n",
              "      <th>...</th>\n",
              "      <td>...</td>\n",
              "      <td>...</td>\n",
              "    </tr>\n",
              "    <tr>\n",
              "      <th>618</th>\n",
              "      <td>$79,568</td>\n",
              "      <td>504</td>\n",
              "    </tr>\n",
              "    <tr>\n",
              "      <th>619</th>\n",
              "      <td>$79,568</td>\n",
              "      <td>61</td>\n",
              "    </tr>\n",
              "    <tr>\n",
              "      <th>620</th>\n",
              "      <td>$79,568</td>\n",
              "      <td>523</td>\n",
              "    </tr>\n",
              "    <tr>\n",
              "      <th>621</th>\n",
              "      <td>$79,568</td>\n",
              "      <td>319</td>\n",
              "    </tr>\n",
              "    <tr>\n",
              "      <th>622</th>\n",
              "      <td>$65,978</td>\n",
              "      <td>366</td>\n",
              "    </tr>\n",
              "  </tbody>\n",
              "</table>\n",
              "<p>623 rows × 2 columns</p>\n",
              "</div>"
            ],
            "text/plain": [
              "         2019/20   Rk\n",
              "0    $40,231,758  121\n",
              "1    $38,506,482  506\n",
              "2    $38,506,482  396\n",
              "3    $38,199,000  198\n",
              "4    $38,199,000  NaN\n",
              "..           ...  ...\n",
              "618      $79,568  504\n",
              "619      $79,568   61\n",
              "620      $79,568  523\n",
              "621      $79,568  319\n",
              "622      $65,978  366\n",
              "\n",
              "[623 rows x 2 columns]"
            ]
          },
          "metadata": {
            "tags": []
          },
          "execution_count": 8
        }
      ]
    },
    {
      "cell_type": "code",
      "metadata": {
        "colab": {
          "base_uri": "https://localhost:8080/"
        },
        "id": "CKqeJH6sR4Fr",
        "outputId": "2ed4e77c-4a6b-4f2c-9554-e7f4b908953f"
      },
      "source": [
        "# drop the rows with 'NaN'\r\n",
        "ndf = ndf.dropna()\r\n",
        "print(ndf)"
      ],
      "execution_count": 9,
      "outputs": [
        {
          "output_type": "stream",
          "text": [
            "         2019/20   Rk\n",
            "0    $40,231,758  121\n",
            "1    $38,506,482  506\n",
            "2    $38,506,482  396\n",
            "3    $38,199,000  198\n",
            "5    $37,436,858  250\n",
            "..           ...  ...\n",
            "618      $79,568  504\n",
            "619      $79,568   61\n",
            "620      $79,568  523\n",
            "621      $79,568  319\n",
            "622      $65,978  366\n",
            "\n",
            "[553 rows x 2 columns]\n"
          ],
          "name": "stdout"
        }
      ]
    },
    {
      "cell_type": "markdown",
      "metadata": {
        "id": "G6X82Sg7xCHD"
      },
      "source": [
        "As we can see from the table above, the salaries with ranks are listed in order from the greatest to the smallest. For example, the player ranked 121 has a payroll of `$`40231758. However, the player who ranked 61 has only `$`79568 in payroll and his salary ranked 619 among 553 players. "
      ]
    },
    {
      "cell_type": "code",
      "metadata": {
        "colab": {
          "base_uri": "https://localhost:8080/",
          "height": 1000
        },
        "id": "z3pE-ev2muDB",
        "outputId": "3fe0f89f-28c4-4ac5-cad7-08f92866b8ff"
      },
      "source": [
        "if(ndf['2019/20'].dtype != np.float64 and ndf['2019/20'].dtype != np.int64):\r\n",
        "  ndf['2019/20'] = ndf['2019/20'].str.replace('$', '')\r\n",
        "  ndf['2019/20'] = ndf['2019/20'].str.replace(',', '')\r\n",
        "  ndf['2019/20'] = ndf['2019/20'].astype(int)\r\n",
        "\r\n",
        "ndf['Rk'] = ndf['Rk'].astype(int)\r\n",
        "ax=ndf.plot(kind='scatter', x=\"2019/20\", y=\"Rk\",figsize=(50,40),fontsize=30)\r\n",
        "ax.set_title('Relationship Bwteen Salary and Ranked',pad=20, fontdict={'fontsize':30})\r\n",
        "ax.set_ylabel('Ranked',fontdict={'fontsize':30})\r\n",
        "ax.set_xlabel('2019/20 Salary',fontdict={'fontsize':30})"
      ],
      "execution_count": 10,
      "outputs": [
        {
          "output_type": "stream",
          "text": [
            "/usr/local/lib/python3.6/dist-packages/ipykernel_launcher.py:2: SettingWithCopyWarning: \n",
            "A value is trying to be set on a copy of a slice from a DataFrame.\n",
            "Try using .loc[row_indexer,col_indexer] = value instead\n",
            "\n",
            "See the caveats in the documentation: https://pandas.pydata.org/pandas-docs/stable/user_guide/indexing.html#returning-a-view-versus-a-copy\n",
            "  \n",
            "/usr/local/lib/python3.6/dist-packages/ipykernel_launcher.py:3: SettingWithCopyWarning: \n",
            "A value is trying to be set on a copy of a slice from a DataFrame.\n",
            "Try using .loc[row_indexer,col_indexer] = value instead\n",
            "\n",
            "See the caveats in the documentation: https://pandas.pydata.org/pandas-docs/stable/user_guide/indexing.html#returning-a-view-versus-a-copy\n",
            "  This is separate from the ipykernel package so we can avoid doing imports until\n",
            "/usr/local/lib/python3.6/dist-packages/ipykernel_launcher.py:4: SettingWithCopyWarning: \n",
            "A value is trying to be set on a copy of a slice from a DataFrame.\n",
            "Try using .loc[row_indexer,col_indexer] = value instead\n",
            "\n",
            "See the caveats in the documentation: https://pandas.pydata.org/pandas-docs/stable/user_guide/indexing.html#returning-a-view-versus-a-copy\n",
            "  after removing the cwd from sys.path.\n",
            "/usr/local/lib/python3.6/dist-packages/ipykernel_launcher.py:6: SettingWithCopyWarning: \n",
            "A value is trying to be set on a copy of a slice from a DataFrame.\n",
            "Try using .loc[row_indexer,col_indexer] = value instead\n",
            "\n",
            "See the caveats in the documentation: https://pandas.pydata.org/pandas-docs/stable/user_guide/indexing.html#returning-a-view-versus-a-copy\n",
            "  \n"
          ],
          "name": "stderr"
        },
        {
          "output_type": "execute_result",
          "data": {
            "text/plain": [
              "Text(0.5, 0, '2019/20 Salary')"
            ]
          },
          "metadata": {
            "tags": []
          },
          "execution_count": 10
        },
        {
          "output_type": "display_data",
          "data": {
            "image/png": "[encoded data removed]",
            "text/plain": [
              "<Figure size 3600x2880 with 1 Axes>"
            ]
          },
          "metadata": {
            "tags": [],
            "needs_background": "light"
          }
        }
      ]
    },
    {
      "cell_type": "code",
      "metadata": {
        "colab": {
          "base_uri": "https://localhost:8080/"
        },
        "id": "oA6_CK0sJn8N",
        "outputId": "3e7fa45f-2419-4fdd-99d3-1a8c4237dfd4"
      },
      "source": [
        "import scipy.stats\n",
        "\n",
        "print('The correlation between Ranking and Salary of NBA players: ',scipy.stats.pearsonr(ndf['Rk'],ndf['2019/20'])[0] )\n"
      ],
      "execution_count": 11,
      "outputs": [
        {
          "output_type": "stream",
          "text": [
            "The correlation between Ranking and Salary of NBA players:  -0.023505310753021664\n"
          ],
          "name": "stdout"
        }
      ]
    },
    {
      "cell_type": "markdown",
      "metadata": {
        "id": "pFv6uKke4qjy"
      },
      "source": [
        "Moreover, we plotted the scatter plot with salaries on x-axis and rank numbers on y-axis. We can see that there is no correlation between ranking and salary of NBA players. The data points are spread out, which means there is no trend to the data. So that we are not going to do the linear regression model on ranking and salary. The correlation between Ranking and Salary is close to 0, which means it is weak linear association between Ranking and Salary."
      ]
    },
    {
      "cell_type": "markdown",
      "metadata": {
        "id": "FWuTIKC8DSSj"
      },
      "source": [
        "There could be many factors behind this conclusion. The ranked is according to the 2019/20 season ranking. However, the salary could be also linking to the past on-court performances. A NBA player has a high income with a low ranking might due to his inactivity in this season. "
      ]
    },
    {
      "cell_type": "markdown",
      "metadata": {
        "id": "NC6ExltUiHz5"
      },
      "source": [
        "# Salary and Age"
      ]
    },
    {
      "cell_type": "code",
      "metadata": {
        "colab": {
          "base_uri": "https://localhost:8080/",
          "height": 415
        },
        "id": "CHb9pGoh5ucp",
        "outputId": "a280b585-73a3-4498-d860-57b2e6cf55b9"
      },
      "source": [
        "# Create a new table with age and salary only. And Dropping the row with 'NAN'\r\n",
        "age_salary_df=df[['2019/20','Age']]\r\n",
        "age_salary_df = age_salary_df.dropna()\r\n",
        "age_salary_df"
      ],
      "execution_count": 12,
      "outputs": [
        {
          "output_type": "execute_result",
          "data": {
            "text/html": [
              "<div>\n",
              "<style scoped>\n",
              "    .dataframe tbody tr th:only-of-type {\n",
              "        vertical-align: middle;\n",
              "    }\n",
              "\n",
              "    .dataframe tbody tr th {\n",
              "        vertical-align: top;\n",
              "    }\n",
              "\n",
              "    .dataframe thead th {\n",
              "        text-align: right;\n",
              "    }\n",
              "</style>\n",
              "<table border=\"1\" class=\"dataframe\">\n",
              "  <thead>\n",
              "    <tr style=\"text-align: right;\">\n",
              "      <th></th>\n",
              "      <th>2019/20</th>\n",
              "      <th>Age</th>\n",
              "    </tr>\n",
              "  </thead>\n",
              "  <tbody>\n",
              "    <tr>\n",
              "      <th>0</th>\n",
              "      <td>$40,231,758</td>\n",
              "      <td>31</td>\n",
              "    </tr>\n",
              "    <tr>\n",
              "      <th>1</th>\n",
              "      <td>$38,506,482</td>\n",
              "      <td>31</td>\n",
              "    </tr>\n",
              "    <tr>\n",
              "      <th>2</th>\n",
              "      <td>$38,506,482</td>\n",
              "      <td>34</td>\n",
              "    </tr>\n",
              "    <tr>\n",
              "      <th>3</th>\n",
              "      <td>$38,199,000</td>\n",
              "      <td>30</td>\n",
              "    </tr>\n",
              "    <tr>\n",
              "      <th>5</th>\n",
              "      <td>$37,436,858</td>\n",
              "      <td>35</td>\n",
              "    </tr>\n",
              "    <tr>\n",
              "      <th>...</th>\n",
              "      <td>...</td>\n",
              "      <td>...</td>\n",
              "    </tr>\n",
              "    <tr>\n",
              "      <th>618</th>\n",
              "      <td>$79,568</td>\n",
              "      <td>25</td>\n",
              "    </tr>\n",
              "    <tr>\n",
              "      <th>619</th>\n",
              "      <td>$79,568</td>\n",
              "      <td>23</td>\n",
              "    </tr>\n",
              "    <tr>\n",
              "      <th>620</th>\n",
              "      <td>$79,568</td>\n",
              "      <td>22</td>\n",
              "    </tr>\n",
              "    <tr>\n",
              "      <th>621</th>\n",
              "      <td>$79,568</td>\n",
              "      <td>23</td>\n",
              "    </tr>\n",
              "    <tr>\n",
              "      <th>622</th>\n",
              "      <td>$65,978</td>\n",
              "      <td>22</td>\n",
              "    </tr>\n",
              "  </tbody>\n",
              "</table>\n",
              "<p>553 rows × 2 columns</p>\n",
              "</div>"
            ],
            "text/plain": [
              "         2019/20 Age\n",
              "0    $40,231,758  31\n",
              "1    $38,506,482  31\n",
              "2    $38,506,482  34\n",
              "3    $38,199,000  30\n",
              "5    $37,436,858  35\n",
              "..           ...  ..\n",
              "618      $79,568  25\n",
              "619      $79,568  23\n",
              "620      $79,568  22\n",
              "621      $79,568  23\n",
              "622      $65,978  22\n",
              "\n",
              "[553 rows x 2 columns]"
            ]
          },
          "metadata": {
            "tags": []
          },
          "execution_count": 12
        }
      ]
    },
    {
      "cell_type": "code",
      "metadata": {
        "colab": {
          "base_uri": "https://localhost:8080/",
          "height": 415
        },
        "id": "zwzoWXuE-szH",
        "outputId": "e80e7954-9283-454f-f319-c4d787c8df06"
      },
      "source": [
        "if(age_salary_df['2019/20'].dtype != np.float64 and age_salary_df['2019/20'].dtype != np.int64):\r\n",
        "  age_salary_df['2019/20'] = age_salary_df['2019/20'].str.replace('$', '')\r\n",
        "  age_salary_df['2019/20'] = age_salary_df['2019/20'].str.replace(',', '')\r\n",
        "  age_salary_df['2019/20'] = age_salary_df['2019/20'].astype(int)\r\n",
        "age_salary_df\r\n",
        "age_salary_df['Age'] = age_salary_df['Age'].astype(int)\r\n",
        "age_salary_df"
      ],
      "execution_count": 13,
      "outputs": [
        {
          "output_type": "execute_result",
          "data": {
            "text/html": [
              "<div>\n",
              "<style scoped>\n",
              "    .dataframe tbody tr th:only-of-type {\n",
              "        vertical-align: middle;\n",
              "    }\n",
              "\n",
              "    .dataframe tbody tr th {\n",
              "        vertical-align: top;\n",
              "    }\n",
              "\n",
              "    .dataframe thead th {\n",
              "        text-align: right;\n",
              "    }\n",
              "</style>\n",
              "<table border=\"1\" class=\"dataframe\">\n",
              "  <thead>\n",
              "    <tr style=\"text-align: right;\">\n",
              "      <th></th>\n",
              "      <th>2019/20</th>\n",
              "      <th>Age</th>\n",
              "    </tr>\n",
              "  </thead>\n",
              "  <tbody>\n",
              "    <tr>\n",
              "      <th>0</th>\n",
              "      <td>40231758</td>\n",
              "      <td>31</td>\n",
              "    </tr>\n",
              "    <tr>\n",
              "      <th>1</th>\n",
              "      <td>38506482</td>\n",
              "      <td>31</td>\n",
              "    </tr>\n",
              "    <tr>\n",
              "      <th>2</th>\n",
              "      <td>38506482</td>\n",
              "      <td>34</td>\n",
              "    </tr>\n",
              "    <tr>\n",
              "      <th>3</th>\n",
              "      <td>38199000</td>\n",
              "      <td>30</td>\n",
              "    </tr>\n",
              "    <tr>\n",
              "      <th>5</th>\n",
              "      <td>37436858</td>\n",
              "      <td>35</td>\n",
              "    </tr>\n",
              "    <tr>\n",
              "      <th>...</th>\n",
              "      <td>...</td>\n",
              "      <td>...</td>\n",
              "    </tr>\n",
              "    <tr>\n",
              "      <th>618</th>\n",
              "      <td>79568</td>\n",
              "      <td>25</td>\n",
              "    </tr>\n",
              "    <tr>\n",
              "      <th>619</th>\n",
              "      <td>79568</td>\n",
              "      <td>23</td>\n",
              "    </tr>\n",
              "    <tr>\n",
              "      <th>620</th>\n",
              "      <td>79568</td>\n",
              "      <td>22</td>\n",
              "    </tr>\n",
              "    <tr>\n",
              "      <th>621</th>\n",
              "      <td>79568</td>\n",
              "      <td>23</td>\n",
              "    </tr>\n",
              "    <tr>\n",
              "      <th>622</th>\n",
              "      <td>65978</td>\n",
              "      <td>22</td>\n",
              "    </tr>\n",
              "  </tbody>\n",
              "</table>\n",
              "<p>553 rows × 2 columns</p>\n",
              "</div>"
            ],
            "text/plain": [
              "      2019/20  Age\n",
              "0    40231758   31\n",
              "1    38506482   31\n",
              "2    38506482   34\n",
              "3    38199000   30\n",
              "5    37436858   35\n",
              "..        ...  ...\n",
              "618     79568   25\n",
              "619     79568   23\n",
              "620     79568   22\n",
              "621     79568   23\n",
              "622     65978   22\n",
              "\n",
              "[553 rows x 2 columns]"
            ]
          },
          "metadata": {
            "tags": []
          },
          "execution_count": 13
        }
      ]
    },
    {
      "cell_type": "code",
      "metadata": {
        "colab": {
          "base_uri": "https://localhost:8080/",
          "height": 473
        },
        "id": "csgvtrFDEn4D",
        "outputId": "a41761dd-5f0e-4cd0-8c70-b29d3cb8d7e7"
      },
      "source": [
        "# draw the optimal linear regression line through the data\r\n",
        "sns.lmplot(\r\n",
        "    data=age_salary_df, x=\"Age\", y=\"2019/20\", height=6,\r\n",
        "    scatter_kws=dict(s=1.5, alpha=0.35)\r\n",
        ")"
      ],
      "execution_count": 14,
      "outputs": [
        {
          "output_type": "execute_result",
          "data": {
            "text/plain": [
              "<seaborn.axisgrid.FacetGrid at 0x7fb84e839400>"
            ]
          },
          "metadata": {
            "tags": []
          },
          "execution_count": 14
        },
        {
          "output_type": "display_data",
          "data": {
            "image/png": "[encoded data removed]",
            "text/plain": [
              "<Figure size 432x432 with 1 Axes>"
            ]
          },
          "metadata": {
            "tags": [],
            "needs_background": "light"
          }
        }
      ]
    },
    {
      "cell_type": "code",
      "metadata": {
        "id": "_6yLMhyKh8M5",
        "colab": {
          "base_uri": "https://localhost:8080/",
          "height": 202
        },
        "outputId": "33b9edd2-6f7d-466f-9791-4f609b4dea75"
      },
      "source": [
        "X = age_salary_df.drop([\"2019/20\"], axis=1).copy()\r\n",
        "# convert everything to be a float for later on\r\n",
        "for col in list(X):\r\n",
        "    X[col] = X[col].astype(float)\r\n",
        "X.head()\r\n",
        "\r\n"
      ],
      "execution_count": 15,
      "outputs": [
        {
          "output_type": "execute_result",
          "data": {
            "text/html": [
              "<div>\n",
              "<style scoped>\n",
              "    .dataframe tbody tr th:only-of-type {\n",
              "        vertical-align: middle;\n",
              "    }\n",
              "\n",
              "    .dataframe tbody tr th {\n",
              "        vertical-align: top;\n",
              "    }\n",
              "\n",
              "    .dataframe thead th {\n",
              "        text-align: right;\n",
              "    }\n",
              "</style>\n",
              "<table border=\"1\" class=\"dataframe\">\n",
              "  <thead>\n",
              "    <tr style=\"text-align: right;\">\n",
              "      <th></th>\n",
              "      <th>Age</th>\n",
              "    </tr>\n",
              "  </thead>\n",
              "  <tbody>\n",
              "    <tr>\n",
              "      <th>0</th>\n",
              "      <td>31.0</td>\n",
              "    </tr>\n",
              "    <tr>\n",
              "      <th>1</th>\n",
              "      <td>31.0</td>\n",
              "    </tr>\n",
              "    <tr>\n",
              "      <th>2</th>\n",
              "      <td>34.0</td>\n",
              "    </tr>\n",
              "    <tr>\n",
              "      <th>3</th>\n",
              "      <td>30.0</td>\n",
              "    </tr>\n",
              "    <tr>\n",
              "      <th>5</th>\n",
              "      <td>35.0</td>\n",
              "    </tr>\n",
              "  </tbody>\n",
              "</table>\n",
              "</div>"
            ],
            "text/plain": [
              "    Age\n",
              "0  31.0\n",
              "1  31.0\n",
              "2  34.0\n",
              "3  30.0\n",
              "5  35.0"
            ]
          },
          "metadata": {
            "tags": []
          },
          "execution_count": 15
        }
      ]
    },
    {
      "cell_type": "code",
      "metadata": {
        "colab": {
          "base_uri": "https://localhost:8080/"
        },
        "id": "d2g0dR8YEdmy",
        "outputId": "7d796960-a5a3-4c85-c110-3168da6afbfc"
      },
      "source": [
        "# notice the log here!\r\n",
        "y = np.log(age_salary_df[\"2019/20\"])\r\n",
        "# notice the log here!\r\n",
        "y = age_salary_df[\"log_salary\"] = y\r\n",
        "y.head()"
      ],
      "execution_count": 16,
      "outputs": [
        {
          "output_type": "execute_result",
          "data": {
            "text/plain": [
              "0    17.510167\n",
              "1    17.466337\n",
              "2    17.466337\n",
              "3    17.458320\n",
              "5    17.438166\n",
              "Name: 2019/20, dtype: float64"
            ]
          },
          "metadata": {
            "tags": []
          },
          "execution_count": 16
        }
      ]
    },
    {
      "cell_type": "code",
      "metadata": {
        "colab": {
          "base_uri": "https://localhost:8080/"
        },
        "id": "2UgA3JMMAtq8",
        "outputId": "c9915441-2974-48cf-92fe-fe5a7089989d"
      },
      "source": [
        "# let's fit the model\r\n",
        "# construct the model instance\r\n",
        "sqft_lr_model = linear_model.LinearRegression()\r\n",
        "\r\n",
        "# fit the model\r\n",
        "sqft_lr_model.fit(X[[\"Age\"]], y)\r\n",
        "\r\n",
        "# print the coefficients\r\n",
        "beta_0 = sqft_lr_model.intercept_\r\n",
        "beta_1 = sqft_lr_model.coef_[0]\r\n",
        "\r\n",
        "print(f\"Fit model: log(Salary) = {beta_0:.4f} + {beta_1:.4f} Age\")"
      ],
      "execution_count": 17,
      "outputs": [
        {
          "output_type": "stream",
          "text": [
            "Fit model: log(Salary) = 11.0594 + 0.1392 Age\n"
          ],
          "name": "stdout"
        }
      ]
    },
    {
      "cell_type": "code",
      "metadata": {
        "colab": {
          "base_uri": "https://localhost:8080/",
          "height": 777
        },
        "id": "LgSUsfjYHLkV",
        "outputId": "4fb37b37-2614-488e-860b-33957e93320b"
      },
      "source": [
        "def var_scatter(age_salary_df, ax=None, var=\"Age\"):\r\n",
        "    if ax is None:\r\n",
        "        _, ax = plt.subplots(figsize=(8, 6))\r\n",
        "    age_salary_df.plot.scatter(x=var , y=\"log_salary\", alpha=0.35, s=1.5, ax=ax)\r\n",
        "\r\n",
        "    return ax\r\n",
        "\r\n",
        "var_scatter(age_salary_df);\r\n",
        "# Then, we construct the plot.\r\n",
        "ax = var_scatter(age_salary_df)\r\n",
        "\r\n",
        "# points for the line\r\n",
        "x = np.array([0, age_salary_df[\"Age\"].max()])\r\n",
        "ax.plot(x, beta_0 + beta_1*x)"
      ],
      "execution_count": 18,
      "outputs": [
        {
          "output_type": "execute_result",
          "data": {
            "text/plain": [
              "[<matplotlib.lines.Line2D at 0x7fb84a721ac8>]"
            ]
          },
          "metadata": {
            "tags": []
          },
          "execution_count": 18
        },
        {
          "output_type": "display_data",
          "data": {
            "image/png": "[encoded data removed]",
            "text/plain": [
              "<Figure size 576x432 with 1 Axes>"
            ]
          },
          "metadata": {
            "tags": [],
            "needs_background": "light"
          }
        },
        {
          "output_type": "display_data",
          "data": {
            "image/png": "[encoded data removed]",
            "text/plain": [
              "<Figure size 576x432 with 1 Axes>"
            ]
          },
          "metadata": {
            "tags": [],
            "needs_background": "light"
          }
        }
      ]
    },
    {
      "cell_type": "code",
      "metadata": {
        "colab": {
          "base_uri": "https://localhost:8080/",
          "height": 433
        },
        "id": "P_NhnVlBEri0",
        "outputId": "cfb63651-32e3-41ce-a064-472b49b78e02"
      },
      "source": [
        "age_salary_df.drop('log_salary',axis=1,inplace=True)\r\n",
        "age_salary_df['AgeGroup']=np.zeros(len(age_salary_df))\r\n",
        "print(f'The yougest NBA player is', age_salary_df['Age'].min(),'yeaers old, and the oldest NBA player is', age_salary_df['Age'].max(),'years old.')\r\n",
        "for i in range(0,len(age_salary_df)):\r\n",
        "  if age_salary_df.iloc[i]['Age'] >= 19 and age_salary_df.iloc[i]['Age'] < 25:\r\n",
        "    age_salary_df.iat[i, 2] = '1'\r\n",
        "  if age_salary_df.iloc[i]['Age'] >= 25 and age_salary_df.iloc[i]['Age'] < 30:\r\n",
        "    age_salary_df.iat[i, 2] = 2\r\n",
        "  if age_salary_df.iloc[i]['Age'] >= 30 and age_salary_df.iloc[i]['Age'] < 35:\r\n",
        "    age_salary_df.iat[i, 2] = 3\r\n",
        "  if age_salary_df.iloc[i]['Age'] >= 35 and age_salary_df.iloc[i]['Age'] < 40:\r\n",
        "    age_salary_df.iat[i, 2] = 4\r\n",
        "  if age_salary_df.iloc[i]['Age'] >= 40 and age_salary_df.iloc[i]['Age'] < 45:\r\n",
        "    age_salary_df.iat[i, 2] = 5\r\n",
        "age_salary_df"
      ],
      "execution_count": 19,
      "outputs": [
        {
          "output_type": "stream",
          "text": [
            "The yougest NBA player is 19 yeaers old, and the oldest NBA player is 43 years old.\n"
          ],
          "name": "stdout"
        },
        {
          "output_type": "execute_result",
          "data": {
            "text/html": [
              "<div>\n",
              "<style scoped>\n",
              "    .dataframe tbody tr th:only-of-type {\n",
              "        vertical-align: middle;\n",
              "    }\n",
              "\n",
              "    .dataframe tbody tr th {\n",
              "        vertical-align: top;\n",
              "    }\n",
              "\n",
              "    .dataframe thead th {\n",
              "        text-align: right;\n",
              "    }\n",
              "</style>\n",
              "<table border=\"1\" class=\"dataframe\">\n",
              "  <thead>\n",
              "    <tr style=\"text-align: right;\">\n",
              "      <th></th>\n",
              "      <th>2019/20</th>\n",
              "      <th>Age</th>\n",
              "      <th>AgeGroup</th>\n",
              "    </tr>\n",
              "  </thead>\n",
              "  <tbody>\n",
              "    <tr>\n",
              "      <th>0</th>\n",
              "      <td>40231758</td>\n",
              "      <td>31</td>\n",
              "      <td>3.0</td>\n",
              "    </tr>\n",
              "    <tr>\n",
              "      <th>1</th>\n",
              "      <td>38506482</td>\n",
              "      <td>31</td>\n",
              "      <td>3.0</td>\n",
              "    </tr>\n",
              "    <tr>\n",
              "      <th>2</th>\n",
              "      <td>38506482</td>\n",
              "      <td>34</td>\n",
              "      <td>3.0</td>\n",
              "    </tr>\n",
              "    <tr>\n",
              "      <th>3</th>\n",
              "      <td>38199000</td>\n",
              "      <td>30</td>\n",
              "      <td>3.0</td>\n",
              "    </tr>\n",
              "    <tr>\n",
              "      <th>5</th>\n",
              "      <td>37436858</td>\n",
              "      <td>35</td>\n",
              "      <td>4.0</td>\n",
              "    </tr>\n",
              "    <tr>\n",
              "      <th>...</th>\n",
              "      <td>...</td>\n",
              "      <td>...</td>\n",
              "      <td>...</td>\n",
              "    </tr>\n",
              "    <tr>\n",
              "      <th>618</th>\n",
              "      <td>79568</td>\n",
              "      <td>25</td>\n",
              "      <td>2.0</td>\n",
              "    </tr>\n",
              "    <tr>\n",
              "      <th>619</th>\n",
              "      <td>79568</td>\n",
              "      <td>23</td>\n",
              "      <td>1.0</td>\n",
              "    </tr>\n",
              "    <tr>\n",
              "      <th>620</th>\n",
              "      <td>79568</td>\n",
              "      <td>22</td>\n",
              "      <td>1.0</td>\n",
              "    </tr>\n",
              "    <tr>\n",
              "      <th>621</th>\n",
              "      <td>79568</td>\n",
              "      <td>23</td>\n",
              "      <td>1.0</td>\n",
              "    </tr>\n",
              "    <tr>\n",
              "      <th>622</th>\n",
              "      <td>65978</td>\n",
              "      <td>22</td>\n",
              "      <td>1.0</td>\n",
              "    </tr>\n",
              "  </tbody>\n",
              "</table>\n",
              "<p>553 rows × 3 columns</p>\n",
              "</div>"
            ],
            "text/plain": [
              "      2019/20  Age  AgeGroup\n",
              "0    40231758   31       3.0\n",
              "1    38506482   31       3.0\n",
              "2    38506482   34       3.0\n",
              "3    38199000   30       3.0\n",
              "5    37436858   35       4.0\n",
              "..        ...  ...       ...\n",
              "618     79568   25       2.0\n",
              "619     79568   23       1.0\n",
              "620     79568   22       1.0\n",
              "621     79568   23       1.0\n",
              "622     65978   22       1.0\n",
              "\n",
              "[553 rows x 3 columns]"
            ]
          },
          "metadata": {
            "tags": []
          },
          "execution_count": 19
        }
      ]
    },
    {
      "cell_type": "code",
      "metadata": {
        "colab": {
          "base_uri": "https://localhost:8080/"
        },
        "id": "taqg6DxHAlJ0",
        "outputId": "1760d7c5-d4f4-4b1d-d515-40c8525c51cd"
      },
      "source": [
        "grouped = age_salary_df.groupby('AgeGroup')\r\n",
        "\r\n",
        "grouped['2019/20'].agg(np.mean)"
      ],
      "execution_count": 20,
      "outputs": [
        {
          "output_type": "execute_result",
          "data": {
            "text/plain": [
              "AgeGroup\n",
              "1.0    3.388959e+06\n",
              "2.0    7.632170e+06\n",
              "3.0    1.271502e+07\n",
              "4.0    1.032507e+07\n",
              "5.0    2.564753e+06\n",
              "Name: 2019/20, dtype: float64"
            ]
          },
          "metadata": {
            "tags": []
          },
          "execution_count": 20
        }
      ]
    },
    {
      "cell_type": "code",
      "metadata": {
        "colab": {
          "base_uri": "https://localhost:8080/",
          "height": 313
        },
        "id": "nHvwVDDaYL2w",
        "outputId": "77d3d26c-7a4a-49cc-8994-c64a42bd3945"
      },
      "source": [
        "df2 = pd.DataFrame({'AgeGroup':['1','2','3','4','5'],\r\n",
        "                    'AverageSalary':[grouped['2019/20'].agg(np.mean)[1],grouped['2019/20'].agg(np.mean)[2],\r\n",
        "                                     grouped['2019/20'].agg(np.mean)[3],grouped['2019/20'].agg(np.mean)[4],grouped['2019/20'].agg(np.mean)[5]]})\r\n",
        "df2.plot(x='AgeGroup',y='AverageSalary',title='Age Group With Average Salary',xlabel='Age Group',ylabel='Average Salary')"
      ],
      "execution_count": 21,
      "outputs": [
        {
          "output_type": "execute_result",
          "data": {
            "text/plain": [
              "<matplotlib.axes._subplots.AxesSubplot at 0x7fb84a687b00>"
            ]
          },
          "metadata": {
            "tags": []
          },
          "execution_count": 21
        },
        {
          "output_type": "display_data",
          "data": {
            "image/png": "[encoded data removed]",
            "text/plain": [
              "<Figure size 432x288 with 1 Axes>"
            ]
          },
          "metadata": {
            "tags": [],
            "needs_background": "light"
          }
        }
      ]
    },
    {
      "cell_type": "markdown",
      "metadata": {
        "id": "bUPpeXTsg4ZH"
      },
      "source": [
        "As we cann see from the plot above, age group 3 has the highest average salary. Age group 3 is reprensenting the ages of NBA players who are in range 30 years old to 35 years old. The youngest player and the oldest player have the lowest salary in average. "
      ]
    },
    {
      "cell_type": "markdown",
      "metadata": {
        "id": "rK3ci8P0foQO"
      },
      "source": [
        "# Multiple Regression\n",
        "\n",
        ">   combine the height and weight data to the salary data frame\n",
        "\n",
        "\n",
        "\n"
      ]
    },
    {
      "cell_type": "code",
      "metadata": {
        "colab": {
          "base_uri": "https://localhost:8080/",
          "height": 413
        },
        "id": "JTwJR3KexR8b",
        "outputId": "9f198265-ae03-4517-c830-24fbfd7fde15"
      },
      "source": [
        "da = pd.read_csv('https://raw.githubusercontent.com/zhangqc00/NBA-data/main/all_seasons.csv')\n",
        "da = da.rename(columns = {\"player_name\":\"Player\"})\n",
        "\n",
        "df01 = pd.merge(salary,da,on = 'Player', how='left')\n",
        "df01.drop('Unnamed: 0_y',axis=1,inplace=True)\n",
        "df01.drop('2019/20(*)',axis=1,inplace=True)\n",
        "\n",
        "df02 = df01.loc[df01['season'] == '2019-20']\n",
        "df02.drop(['season','country','draft_year','draft_round','draft_number'],axis=1,inplace=True)\n",
        "df02.head()\n",
        "\n"
      ],
      "execution_count": 22,
      "outputs": [
        {
          "output_type": "stream",
          "text": [
            "/usr/local/lib/python3.6/dist-packages/pandas/core/frame.py:4174: SettingWithCopyWarning: \n",
            "A value is trying to be set on a copy of a slice from a DataFrame\n",
            "\n",
            "See the caveats in the documentation: https://pandas.pydata.org/pandas-docs/stable/user_guide/indexing.html#returning-a-view-versus-a-copy\n",
            "  errors=errors,\n"
          ],
          "name": "stderr"
        },
        {
          "output_type": "execute_result",
          "data": {
            "text/html": [
              "<div>\n",
              "<style scoped>\n",
              "    .dataframe tbody tr th:only-of-type {\n",
              "        vertical-align: middle;\n",
              "    }\n",
              "\n",
              "    .dataframe tbody tr th {\n",
              "        vertical-align: top;\n",
              "    }\n",
              "\n",
              "    .dataframe thead th {\n",
              "        text-align: right;\n",
              "    }\n",
              "</style>\n",
              "<table border=\"1\" class=\"dataframe\">\n",
              "  <thead>\n",
              "    <tr style=\"text-align: right;\">\n",
              "      <th></th>\n",
              "      <th>Unnamed: 0_x</th>\n",
              "      <th>Player</th>\n",
              "      <th>2019/20</th>\n",
              "      <th>team_abbreviation</th>\n",
              "      <th>age</th>\n",
              "      <th>player_height</th>\n",
              "      <th>player_weight</th>\n",
              "      <th>college</th>\n",
              "      <th>gp</th>\n",
              "      <th>pts</th>\n",
              "      <th>reb</th>\n",
              "      <th>ast</th>\n",
              "      <th>net_rating</th>\n",
              "      <th>oreb_pct</th>\n",
              "      <th>dreb_pct</th>\n",
              "      <th>usg_pct</th>\n",
              "      <th>ts_pct</th>\n",
              "      <th>ast_pct</th>\n",
              "    </tr>\n",
              "  </thead>\n",
              "  <tbody>\n",
              "    <tr>\n",
              "      <th>10</th>\n",
              "      <td>1</td>\n",
              "      <td>Stephen Curry</td>\n",
              "      <td>$40,231,758</td>\n",
              "      <td>GSW</td>\n",
              "      <td>31.0</td>\n",
              "      <td>190.50</td>\n",
              "      <td>83.91452</td>\n",
              "      <td>Davidson</td>\n",
              "      <td>5.0</td>\n",
              "      <td>20.8</td>\n",
              "      <td>5.2</td>\n",
              "      <td>6.6</td>\n",
              "      <td>-15.3</td>\n",
              "      <td>0.023</td>\n",
              "      <td>0.162</td>\n",
              "      <td>0.286</td>\n",
              "      <td>0.557</td>\n",
              "      <td>0.355</td>\n",
              "    </tr>\n",
              "    <tr>\n",
              "      <th>22</th>\n",
              "      <td>2</td>\n",
              "      <td>Russell Westbrook</td>\n",
              "      <td>$38,506,482</td>\n",
              "      <td>HOU</td>\n",
              "      <td>31.0</td>\n",
              "      <td>190.50</td>\n",
              "      <td>90.71840</td>\n",
              "      <td>UCLA</td>\n",
              "      <td>51.0</td>\n",
              "      <td>27.5</td>\n",
              "      <td>8.1</td>\n",
              "      <td>7.0</td>\n",
              "      <td>4.2</td>\n",
              "      <td>0.045</td>\n",
              "      <td>0.159</td>\n",
              "      <td>0.330</td>\n",
              "      <td>0.536</td>\n",
              "      <td>0.339</td>\n",
              "    </tr>\n",
              "    <tr>\n",
              "      <th>37</th>\n",
              "      <td>2</td>\n",
              "      <td>Chris Paul</td>\n",
              "      <td>$38,506,482</td>\n",
              "      <td>OKC</td>\n",
              "      <td>34.0</td>\n",
              "      <td>185.42</td>\n",
              "      <td>79.37860</td>\n",
              "      <td>Wake Forest</td>\n",
              "      <td>62.0</td>\n",
              "      <td>17.5</td>\n",
              "      <td>4.9</td>\n",
              "      <td>6.8</td>\n",
              "      <td>6.7</td>\n",
              "      <td>0.011</td>\n",
              "      <td>0.142</td>\n",
              "      <td>0.224</td>\n",
              "      <td>0.609</td>\n",
              "      <td>0.318</td>\n",
              "    </tr>\n",
              "    <tr>\n",
              "      <th>48</th>\n",
              "      <td>4</td>\n",
              "      <td>James Harden</td>\n",
              "      <td>$38,199,000</td>\n",
              "      <td>HOU</td>\n",
              "      <td>30.0</td>\n",
              "      <td>195.58</td>\n",
              "      <td>99.79024</td>\n",
              "      <td>Arizona State</td>\n",
              "      <td>59.0</td>\n",
              "      <td>34.5</td>\n",
              "      <td>6.4</td>\n",
              "      <td>7.4</td>\n",
              "      <td>6.2</td>\n",
              "      <td>0.026</td>\n",
              "      <td>0.132</td>\n",
              "      <td>0.358</td>\n",
              "      <td>0.616</td>\n",
              "      <td>0.355</td>\n",
              "    </tr>\n",
              "    <tr>\n",
              "      <th>74</th>\n",
              "      <td>6</td>\n",
              "      <td>LeBron James</td>\n",
              "      <td>$37,436,858</td>\n",
              "      <td>LAL</td>\n",
              "      <td>35.0</td>\n",
              "      <td>205.74</td>\n",
              "      <td>113.39800</td>\n",
              "      <td>None</td>\n",
              "      <td>58.0</td>\n",
              "      <td>25.6</td>\n",
              "      <td>7.8</td>\n",
              "      <td>10.7</td>\n",
              "      <td>10.4</td>\n",
              "      <td>0.028</td>\n",
              "      <td>0.186</td>\n",
              "      <td>0.308</td>\n",
              "      <td>0.581</td>\n",
              "      <td>0.480</td>\n",
              "    </tr>\n",
              "  </tbody>\n",
              "</table>\n",
              "</div>"
            ],
            "text/plain": [
              "    Unnamed: 0_x             Player      2019/20  ... usg_pct  ts_pct  ast_pct\n",
              "10             1      Stephen Curry  $40,231,758  ...   0.286   0.557    0.355\n",
              "22             2  Russell Westbrook  $38,506,482  ...   0.330   0.536    0.339\n",
              "37             2         Chris Paul  $38,506,482  ...   0.224   0.609    0.318\n",
              "48             4       James Harden  $38,199,000  ...   0.358   0.616    0.355\n",
              "74             6       LeBron James  $37,436,858  ...   0.308   0.581    0.480\n",
              "\n",
              "[5 rows x 18 columns]"
            ]
          },
          "metadata": {
            "tags": []
          },
          "execution_count": 22
        }
      ]
    },
    {
      "cell_type": "code",
      "metadata": {
        "colab": {
          "base_uri": "https://localhost:8080/",
          "height": 279
        },
        "id": "dKGdGBTINT_7",
        "outputId": "74489940-6208-4086-c331-d2290b9d40cb"
      },
      "source": [
        "plt.hist(df02['2019/20'],density=True,bins=50)\n",
        "\n",
        "plt.xlabel('2019-2020 Salary')\n",
        "plt.ylabel('Density')\n",
        "plt.show()"
      ],
      "execution_count": 23,
      "outputs": [
        {
          "output_type": "display_data",
          "data": {
            "image/png": "[encoded data removed]",
            "text/plain": [
              "<Figure size 432x288 with 1 Axes>"
            ]
          },
          "metadata": {
            "tags": [],
            "needs_background": "light"
          }
        }
      ]
    },
    {
      "cell_type": "markdown",
      "metadata": {
        "id": "_tve7QqK7dyJ"
      },
      "source": [
        "> Cheking for Linearity\n",
        "*   Salary (dependent variable) and Height (Independent variable)\n",
        "*   Salary (dependent variable) and Weight (Independent variable)"
      ]
    },
    {
      "cell_type": "code",
      "metadata": {
        "colab": {
          "base_uri": "https://localhost:8080/",
          "height": 618
        },
        "id": "f83zKIQT8ccO",
        "outputId": "97a83966-068d-448e-a682-0fce0706c520"
      },
      "source": [
        "import pandas as pd\n",
        "import matplotlib.pyplot as plt\n",
        "  \n",
        "plt.scatter(df02['player_height'], df02['2019/20'], color='red')\n",
        "plt.title('2019/20 Player salary Vs Player Height', fontsize=14)\n",
        "plt.xlabel('Player Height', fontsize=14)\n",
        "plt.ylabel('2019/20 Player salary', fontsize=14)\n",
        "plt.figure(figsize=(50,10))\n",
        "plt.show()\n",
        "\n",
        "plt.scatter(df02['player_weight'], df02['2019/20'], color='green')\n",
        "plt.title('2019/20 Player salary Vs Player Weight', fontsize=14)\n",
        "plt.xlabel('Player Weight', fontsize=14)\n",
        "plt.ylabel('2019/20 Player salary', fontsize=14)\n",
        "plt.figure(figsize=(50,10))\n",
        "plt.show()"
      ],
      "execution_count": 24,
      "outputs": [
        {
          "output_type": "display_data",
          "data": {
            "image/png": "[encoded data removed]",
            "text/plain": [
              "<Figure size 432x288 with 1 Axes>"
            ]
          },
          "metadata": {
            "tags": [],
            "needs_background": "light"
          }
        },
        {
          "output_type": "display_data",
          "data": {
            "text/plain": [
              "<Figure size 3600x720 with 0 Axes>"
            ]
          },
          "metadata": {
            "tags": []
          }
        },
        {
          "output_type": "display_data",
          "data": {
            "image/png": "[encoded data removed]",
            "text/plain": [
              "<Figure size 432x288 with 1 Axes>"
            ]
          },
          "metadata": {
            "tags": [],
            "needs_background": "light"
          }
        },
        {
          "output_type": "display_data",
          "data": {
            "text/plain": [
              "<Figure size 3600x720 with 0 Axes>"
            ]
          },
          "metadata": {
            "tags": []
          }
        }
      ]
    },
    {
      "cell_type": "markdown",
      "metadata": {
        "id": "nljlUMAw_vTN"
      },
      "source": [
        "There is not linear relationship between the Player salary and height or weight. It is kind of random spread out."
      ]
    },
    {
      "cell_type": "markdown",
      "metadata": {
        "id": "QLyuVUMIAy0T"
      },
      "source": [
        "> Performing the Multiple Linear Regression\n",
        "*   Salary (dependent variable) and Height, Weight (Independent variable)\n"
      ]
    },
    {
      "cell_type": "code",
      "metadata": {
        "colab": {
          "base_uri": "https://localhost:8080/"
        },
        "id": "qnCipLw3DD1r",
        "outputId": "b76b9b99-8dde-4ea1-aaa9-cbc295a6e164"
      },
      "source": [
        "df03 = df02[['2019/20','player_height','player_weight']]\n",
        "df03 = df03.dropna()\n",
        "\n",
        "if(df03['2019/20'].dtype != np.float64 and df03['2019/20'].dtype != np.int64):\n",
        "  df03['2019/20'] = df03['2019/20'].str.replace('$', '')\n",
        "  df03['2019/20'] = df03['2019/20'].str.replace(',', '')\n",
        "  df03['2019/20'] = df03['2019/20'].astype(int)\n",
        "df03['2019/20'] = np.log(df03[\"2019/20\"])\n",
        "\n",
        "\n",
        "mul_model = linear_model.LinearRegression()\n",
        "mul_model.fit(df03[[\"player_height\",\"player_weight\"]], df03['2019/20'])\n",
        "\n",
        "beta_03 = mul_model.intercept_\n",
        "beta_13 = mul_model.coef_[0]\n",
        "beta_23 = mul_model.coef_[1]\n",
        "\n",
        "print(f\"Fit model: log(Salary) = {beta_03:.4f} + {beta_13:.4f} player_height + {beta_23:.4f} player_weight\")"
      ],
      "execution_count": 25,
      "outputs": [
        {
          "output_type": "stream",
          "text": [
            "Fit model: log(Salary) = 11.9792 + -0.0012 player_height + 0.0309 player_weight\n"
          ],
          "name": "stdout"
        }
      ]
    },
    {
      "cell_type": "markdown",
      "metadata": {
        "id": "saUS9zh3KdZ7"
      },
      "source": [
        "Fixed the player's height, one unit increasing in palyer weight will increase 100`*`0.0309 percent (since log level regression) change in the Salary. Fixed the player's weight, one unit increasing in player height will decrease 100`*`0.0012 percent (since log level regression) change in the Salary. Since we have to know the accuracy of the multiple regression model, we then check the mean square error."
      ]
    },
    {
      "cell_type": "code",
      "metadata": {
        "colab": {
          "base_uri": "https://localhost:8080/",
          "height": 577
        },
        "id": "EfrtyDxXBwEb",
        "outputId": "d5b8ba62-d232-4f7e-867c-845cd2d65acf"
      },
      "source": [
        "from sklearn.neural_network import MLPRegressor\n",
        "from sklearn.model_selection import train_test_split\n",
        "from sklearn import preprocessing\n",
        "from sklearn.metrics import mean_squared_error\n",
        "import plotly.graph_objects as go\n",
        "\n",
        "y, X = df03['2019/20'], df03.drop('2019/20', axis=1)\n",
        "X = preprocessing.normalize(X)\n",
        "X_train, X_test, y_train, y_test = train_test_split(X, y, test_size=0.2, random_state=0)\n",
        "regr = MLPRegressor(random_state=0, \n",
        "                    hidden_layer_sizes = (64, 64, 64, 120),\n",
        "                    alpha=0.001,\n",
        "                    solver='lbfgs',\n",
        "                    learning_rate='invscaling', learning_rate_init=1e-5,\n",
        "                    max_iter=10000).fit(X_train, y_train)\n",
        "y_predict = regr.predict(X_test)\n",
        "print('Mean squared error: ', np.sqrt(mean_squared_error(y_test, y_predict)))\n",
        "print('Score: ', regr.score(X_test, y_test))\n",
        "\n",
        "\n",
        "fig = go.Figure()\n",
        "fig.add_trace(go.Scatter(x=list(range(len(y_predict))), y=y_predict,\n",
        "                         mode='lines',\n",
        "                         name='Prediction'))\n",
        "fig.add_trace(go.Scatter(x=list(range(len(y_test))), y=y_test,\n",
        "                         mode='lines',\n",
        "                         name='True value'))\n",
        "\n",
        "fig.show()"
      ],
      "execution_count": 26,
      "outputs": [
        {
          "output_type": "stream",
          "text": [
            "Mean squared error:  1.8125139589159958\n",
            "Score:  -0.13100353516593977\n"
          ],
          "name": "stdout"
        },
        {
          "output_type": "display_data",
          "data": {
            "text/html": [
              "<html>\n",
              "<head><meta charset=\"utf-8\" /></head>\n",
              "<body>\n",
              "    <div>\n",
              "            <script src=\"https://cdnjs.cloudflare.com/ajax/libs/mathjax/2.7.5/MathJax.js?config=TeX-AMS-MML_SVG\"></script><script type=\"text/javascript\">if (window.MathJax) {MathJax.Hub.Config({SVG: {font: \"STIX-Web\"}});}</script>\n",
              "                <script type=\"text/javascript\">window.PlotlyConfig = {MathJaxConfig: 'local'};</script>\n",
              "        <script src=\"https://cdn.plot.ly/plotly-latest.min.js\"></script>    \n",
              "            <div id=\"fce7f3dd-3233-4678-905a-17600240294c\" class=\"plotly-graph-div\" style=\"height:525px; width:100%;\"></div>\n",
              "            <script type=\"text/javascript\">\n",
              "                \n",
              "                    window.PLOTLYENV=window.PLOTLYENV || {};\n",
              "                    \n",
              "                if (document.getElementById(\"fce7f3dd-3233-4678-905a-17600240294c\")) {\n",
              "                    Plotly.newPlot(\n",
              "                        'fce7f3dd-3233-4678-905a-17600240294c',\n",
              "                        [{\"mode\": \"lines\", \"name\": \"Prediction\", \"type\": \"scatter\", \"x\": [0, 1, 2, 3, 4, 5, 6, 7, 8, 9, 10, 11, 12, 13, 14, 15, 16, 17, 18, 19, 20, 21, 22, 23, 24, 25, 26, 27, 28, 29, 30, 31, 32, 33, 34, 35, 36, 37, 38, 39, 40, 41, 42, 43, 44, 45, 46, 47, 48, 49, 50, 51, 52, 53, 54, 55, 56, 57, 58, 59, 60, 61, 62, 63, 64, 65, 66, 67, 68, 69, 70, 71, 72, 73, 74, 75, 76, 77, 78, 79, 80, 81, 82, 83, 84, 85, 86, 87, 88], \"y\": [15.219485133764323, 14.335222611563076, 14.582625645928308, 15.323846372093685, 14.787993804144817, 14.396014675138966, 14.843409354158753, 14.487428322616484, 14.361400832992269, 15.647484415350982, 14.436719635270096, 15.427802156599352, 15.288912393296572, 15.255542513419366, 15.799747018303917, 14.770357160999225, 14.456137032116397, 14.356175718899742, 15.009588815434332, 14.675266216974384, 15.421612451937314, 15.757716477522562, 14.446890824578565, 14.783031998767292, 14.692203370115893, 14.393643557782104, 14.867269676738127, 16.47710795959669, 14.736282570118549, 14.966048167159403, 14.382786752056289, 14.617294225526022, 15.184263562312124, 14.344355128807708, 14.838264961283391, 14.804351313986135, 14.51457392766821, 14.722809946493316, 15.119031111093767, 14.767963709890736, 14.424054377779315, 14.676350088363588, 15.232419807762115, 14.749069963581517, 14.505167873801936, 14.755222824846916, 14.43974865732328, 15.112566429384211, 14.537067537401414, 15.39016878683361, 14.389836569427358, 14.507068561012002, 14.760766819621951, 14.335533226399894, 14.867269676738127, 14.742758612437859, 14.590681749720863, 14.396014675138966, 14.695020400090552, 14.858079470977371, 15.288912393296572, 15.051085126684935, 14.456937078563948, 14.770357160999225, 15.255542513419366, 14.507068561012002, 15.427802156599352, 14.56554746073966, 14.675266216974384, 14.455303091553416, 16.15554073070466, 14.599181293037505, 15.602046892982834, 14.58788906463127, 14.820690160596968, 14.455303091553416, 15.889859355269554, 14.9507282145179, 14.343733959188624, 15.493146329846406, 14.364039784377335, 14.695020400090552, 16.12718171327869, 14.443173402790615, 14.360798999576634, 14.918330914570676, 14.554300031435647, 14.424054377779315, 14.770357160999225]}, {\"mode\": \"lines\", \"name\": \"True value\", \"type\": \"scatter\", \"x\": [0, 1, 2, 3, 4, 5, 6, 7, 8, 9, 10, 11, 12, 13, 14, 15, 16, 17, 18, 19, 20, 21, 22, 23, 24, 25, 26, 27, 28, 29, 30, 31, 32, 33, 34, 35, 36, 37, 38, 39, 40, 41, 42, 43, 44, 45, 46, 47, 48, 49, 50, 51, 52, 53, 54, 55, 56, 57, 58, 59, 60, 61, 62, 63, 64, 65, 66, 67, 68, 69, 70, 71, 72, 73, 74, 75, 76, 77, 78, 79, 80, 81, 82, 83, 84, 85, 86, 87, 88], \"y\": [13.70827049929382, 14.66237403830784, 14.522853500214838, 11.28436728095452, 11.527853485554465, 11.28436728095452, 17.302906736562292, 11.424717008129967, 15.087976148755489, 15.055066698972361, 16.413559863852157, 15.687312734865866, 14.332359008044527, 15.377227734186963, 14.525101790940152, 17.138385071624885, 15.107549183158444, 17.46633714872281, 17.304169215396424, 15.003634428835854, 16.45749901619327, 17.0675386044972, 12.429216196844383, 11.28436728095452, 14.428152965781726, 16.129685824652782, 14.593680180560064, 11.28436728095452, 14.184102116175062, 15.03266648184846, 13.241649283185458, 14.470893564103202, 13.296521705526333, 13.975339372344797, 14.448306173174474, 13.70827049929382, 15.261421974652635, 14.74399859929381, 11.28436728095452, 14.298284794767211, 15.48455987319939, 15.981051811193058, 14.16394806720525, 11.40585237257854, 14.16394806720525, 14.345689296246006, 15.385727901245083, 16.7353941914346, 15.492234526103637, 16.523560759066484, 14.46345114568614, 17.320956717532788, 14.020918560103524, 14.16394806720525, 15.483292847372619, 17.236623240313286, 14.184102116175062, 16.657508731576222, 14.475183681666502, 15.736102899035297, 16.70588231586044, 15.89495209964411, 16.090970672563262, 15.852392528703573, 12.98242061868288, 16.129628886771993, 15.424948470398375, 15.761420707019587, 15.201804919084164, 11.097076632107324, 16.308139315384643, 16.659558233410337, 13.815510557964274, 14.757372735653925, 11.28436728095452, 16.600521800202614, 11.28436728095452, 15.520258650202699, 15.912212527700104, 14.497091102152753, 15.201804919084164, 16.17689272146678, 15.377227734186963, 16.050475372748355, 13.035582519297725, 14.914122846632385, 15.807940677199934, 16.77404255191381, 16.739024549697653]}],\n",
              "                        {\"template\": {\"data\": {\"bar\": [{\"error_x\": {\"color\": \"#2a3f5f\"}, \"error_y\": {\"color\": \"#2a3f5f\"}, \"marker\": {\"line\": {\"color\": \"#E5ECF6\", \"width\": 0.5}}, \"type\": \"bar\"}], \"barpolar\": [{\"marker\": {\"line\": {\"color\": \"#E5ECF6\", \"width\": 0.5}}, \"type\": \"barpolar\"}], \"carpet\": [{\"aaxis\": {\"endlinecolor\": \"#2a3f5f\", \"gridcolor\": \"white\", \"linecolor\": \"white\", \"minorgridcolor\": \"white\", \"startlinecolor\": \"#2a3f5f\"}, \"baxis\": {\"endlinecolor\": \"#2a3f5f\", \"gridcolor\": \"white\", \"linecolor\": \"white\", \"minorgridcolor\": \"white\", \"startlinecolor\": \"#2a3f5f\"}, \"type\": \"carpet\"}], \"choropleth\": [{\"colorbar\": {\"outlinewidth\": 0, \"ticks\": \"\"}, \"type\": \"choropleth\"}], \"contour\": [{\"colorbar\": {\"outlinewidth\": 0, \"ticks\": \"\"}, \"colorscale\": [[0.0, \"#0d0887\"], [0.1111111111111111, \"#46039f\"], [0.2222222222222222, \"#7201a8\"], [0.3333333333333333, \"#9c179e\"], [0.4444444444444444, \"#bd3786\"], [0.5555555555555556, \"#d8576b\"], [0.6666666666666666, \"#ed7953\"], [0.7777777777777778, \"#fb9f3a\"], [0.8888888888888888, \"#fdca26\"], [1.0, \"#f0f921\"]], \"type\": \"contour\"}], \"contourcarpet\": [{\"colorbar\": {\"outlinewidth\": 0, \"ticks\": \"\"}, \"type\": \"contourcarpet\"}], \"heatmap\": [{\"colorbar\": {\"outlinewidth\": 0, \"ticks\": \"\"}, \"colorscale\": [[0.0, \"#0d0887\"], [0.1111111111111111, \"#46039f\"], [0.2222222222222222, \"#7201a8\"], [0.3333333333333333, \"#9c179e\"], [0.4444444444444444, \"#bd3786\"], [0.5555555555555556, \"#d8576b\"], [0.6666666666666666, \"#ed7953\"], [0.7777777777777778, \"#fb9f3a\"], [0.8888888888888888, \"#fdca26\"], [1.0, \"#f0f921\"]], \"type\": \"heatmap\"}], \"heatmapgl\": [{\"colorbar\": {\"outlinewidth\": 0, \"ticks\": \"\"}, \"colorscale\": [[0.0, \"#0d0887\"], [0.1111111111111111, \"#46039f\"], [0.2222222222222222, \"#7201a8\"], [0.3333333333333333, \"#9c179e\"], [0.4444444444444444, \"#bd3786\"], [0.5555555555555556, \"#d8576b\"], [0.6666666666666666, \"#ed7953\"], [0.7777777777777778, \"#fb9f3a\"], [0.8888888888888888, \"#fdca26\"], [1.0, \"#f0f921\"]], \"type\": \"heatmapgl\"}], \"histogram\": [{\"marker\": {\"colorbar\": {\"outlinewidth\": 0, \"ticks\": \"\"}}, \"type\": \"histogram\"}], \"histogram2d\": [{\"colorbar\": {\"outlinewidth\": 0, \"ticks\": \"\"}, \"colorscale\": [[0.0, \"#0d0887\"], [0.1111111111111111, \"#46039f\"], [0.2222222222222222, \"#7201a8\"], [0.3333333333333333, \"#9c179e\"], [0.4444444444444444, \"#bd3786\"], [0.5555555555555556, \"#d8576b\"], [0.6666666666666666, \"#ed7953\"], [0.7777777777777778, \"#fb9f3a\"], [0.8888888888888888, \"#fdca26\"], [1.0, \"#f0f921\"]], \"type\": \"histogram2d\"}], \"histogram2dcontour\": [{\"colorbar\": {\"outlinewidth\": 0, \"ticks\": \"\"}, \"colorscale\": [[0.0, \"#0d0887\"], [0.1111111111111111, \"#46039f\"], [0.2222222222222222, \"#7201a8\"], [0.3333333333333333, \"#9c179e\"], [0.4444444444444444, \"#bd3786\"], [0.5555555555555556, \"#d8576b\"], [0.6666666666666666, \"#ed7953\"], [0.7777777777777778, \"#fb9f3a\"], [0.8888888888888888, \"#fdca26\"], [1.0, \"#f0f921\"]], \"type\": \"histogram2dcontour\"}], \"mesh3d\": [{\"colorbar\": {\"outlinewidth\": 0, \"ticks\": \"\"}, \"type\": \"mesh3d\"}], \"parcoords\": [{\"line\": {\"colorbar\": {\"outlinewidth\": 0, \"ticks\": \"\"}}, \"type\": \"parcoords\"}], \"pie\": [{\"automargin\": true, \"type\": \"pie\"}], \"scatter\": [{\"marker\": {\"colorbar\": {\"outlinewidth\": 0, \"ticks\": \"\"}}, \"type\": \"scatter\"}], \"scatter3d\": [{\"line\": {\"colorbar\": {\"outlinewidth\": 0, \"ticks\": \"\"}}, \"marker\": {\"colorbar\": {\"outlinewidth\": 0, \"ticks\": \"\"}}, \"type\": \"scatter3d\"}], \"scattercarpet\": [{\"marker\": {\"colorbar\": {\"outlinewidth\": 0, \"ticks\": \"\"}}, \"type\": \"scattercarpet\"}], \"scattergeo\": [{\"marker\": {\"colorbar\": {\"outlinewidth\": 0, \"ticks\": \"\"}}, \"type\": \"scattergeo\"}], \"scattergl\": [{\"marker\": {\"colorbar\": {\"outlinewidth\": 0, \"ticks\": \"\"}}, \"type\": \"scattergl\"}], \"scattermapbox\": [{\"marker\": {\"colorbar\": {\"outlinewidth\": 0, \"ticks\": \"\"}}, \"type\": \"scattermapbox\"}], \"scatterpolar\": [{\"marker\": {\"colorbar\": {\"outlinewidth\": 0, \"ticks\": \"\"}}, \"type\": \"scatterpolar\"}], \"scatterpolargl\": [{\"marker\": {\"colorbar\": {\"outlinewidth\": 0, \"ticks\": \"\"}}, \"type\": \"scatterpolargl\"}], \"scatterternary\": [{\"marker\": {\"colorbar\": {\"outlinewidth\": 0, \"ticks\": \"\"}}, \"type\": \"scatterternary\"}], \"surface\": [{\"colorbar\": {\"outlinewidth\": 0, \"ticks\": \"\"}, \"colorscale\": [[0.0, \"#0d0887\"], [0.1111111111111111, \"#46039f\"], [0.2222222222222222, \"#7201a8\"], [0.3333333333333333, \"#9c179e\"], [0.4444444444444444, \"#bd3786\"], [0.5555555555555556, \"#d8576b\"], [0.6666666666666666, \"#ed7953\"], [0.7777777777777778, \"#fb9f3a\"], [0.8888888888888888, \"#fdca26\"], [1.0, \"#f0f921\"]], \"type\": \"surface\"}], \"table\": [{\"cells\": {\"fill\": {\"color\": \"#EBF0F8\"}, \"line\": {\"color\": \"white\"}}, \"header\": {\"fill\": {\"color\": \"#C8D4E3\"}, \"line\": {\"color\": \"white\"}}, \"type\": \"table\"}]}, \"layout\": {\"annotationdefaults\": {\"arrowcolor\": \"#2a3f5f\", \"arrowhead\": 0, \"arrowwidth\": 1}, \"coloraxis\": {\"colorbar\": {\"outlinewidth\": 0, \"ticks\": \"\"}}, \"colorscale\": {\"diverging\": [[0, \"#8e0152\"], [0.1, \"#c51b7d\"], [0.2, \"#de77ae\"], [0.3, \"#f1b6da\"], [0.4, \"#fde0ef\"], [0.5, \"#f7f7f7\"], [0.6, \"#e6f5d0\"], [0.7, \"#b8e186\"], [0.8, \"#7fbc41\"], [0.9, \"#4d9221\"], [1, \"#276419\"]], \"sequential\": [[0.0, \"#0d0887\"], [0.1111111111111111, \"#46039f\"], [0.2222222222222222, \"#7201a8\"], [0.3333333333333333, \"#9c179e\"], [0.4444444444444444, \"#bd3786\"], [0.5555555555555556, \"#d8576b\"], [0.6666666666666666, \"#ed7953\"], [0.7777777777777778, \"#fb9f3a\"], [0.8888888888888888, \"#fdca26\"], [1.0, \"#f0f921\"]], \"sequentialminus\": [[0.0, \"#0d0887\"], [0.1111111111111111, \"#46039f\"], [0.2222222222222222, \"#7201a8\"], [0.3333333333333333, \"#9c179e\"], [0.4444444444444444, \"#bd3786\"], [0.5555555555555556, \"#d8576b\"], [0.6666666666666666, \"#ed7953\"], [0.7777777777777778, \"#fb9f3a\"], [0.8888888888888888, \"#fdca26\"], [1.0, \"#f0f921\"]]}, \"colorway\": [\"#636efa\", \"#EF553B\", \"#00cc96\", \"#ab63fa\", \"#FFA15A\", \"#19d3f3\", \"#FF6692\", \"#B6E880\", \"#FF97FF\", \"#FECB52\"], \"font\": {\"color\": \"#2a3f5f\"}, \"geo\": {\"bgcolor\": \"white\", \"lakecolor\": \"white\", \"landcolor\": \"#E5ECF6\", \"showlakes\": true, \"showland\": true, \"subunitcolor\": \"white\"}, \"hoverlabel\": {\"align\": \"left\"}, \"hovermode\": \"closest\", \"mapbox\": {\"style\": \"light\"}, \"paper_bgcolor\": \"white\", \"plot_bgcolor\": \"#E5ECF6\", \"polar\": {\"angularaxis\": {\"gridcolor\": \"white\", \"linecolor\": \"white\", \"ticks\": \"\"}, \"bgcolor\": \"#E5ECF6\", \"radialaxis\": {\"gridcolor\": \"white\", \"linecolor\": \"white\", \"ticks\": \"\"}}, \"scene\": {\"xaxis\": {\"backgroundcolor\": \"#E5ECF6\", \"gridcolor\": \"white\", \"gridwidth\": 2, \"linecolor\": \"white\", \"showbackground\": true, \"ticks\": \"\", \"zerolinecolor\": \"white\"}, \"yaxis\": {\"backgroundcolor\": \"#E5ECF6\", \"gridcolor\": \"white\", \"gridwidth\": 2, \"linecolor\": \"white\", \"showbackground\": true, \"ticks\": \"\", \"zerolinecolor\": \"white\"}, \"zaxis\": {\"backgroundcolor\": \"#E5ECF6\", \"gridcolor\": \"white\", \"gridwidth\": 2, \"linecolor\": \"white\", \"showbackground\": true, \"ticks\": \"\", \"zerolinecolor\": \"white\"}}, \"shapedefaults\": {\"line\": {\"color\": \"#2a3f5f\"}}, \"ternary\": {\"aaxis\": {\"gridcolor\": \"white\", \"linecolor\": \"white\", \"ticks\": \"\"}, \"baxis\": {\"gridcolor\": \"white\", \"linecolor\": \"white\", \"ticks\": \"\"}, \"bgcolor\": \"#E5ECF6\", \"caxis\": {\"gridcolor\": \"white\", \"linecolor\": \"white\", \"ticks\": \"\"}}, \"title\": {\"x\": 0.05}, \"xaxis\": {\"automargin\": true, \"gridcolor\": \"white\", \"linecolor\": \"white\", \"ticks\": \"\", \"title\": {\"standoff\": 15}, \"zerolinecolor\": \"white\", \"zerolinewidth\": 2}, \"yaxis\": {\"automargin\": true, \"gridcolor\": \"white\", \"linecolor\": \"white\", \"ticks\": \"\", \"title\": {\"standoff\": 15}, \"zerolinecolor\": \"white\", \"zerolinewidth\": 2}}}},\n",
              "                        {\"responsive\": true}\n",
              "                    ).then(function(){\n",
              "                            \n",
              "var gd = document.getElementById('fce7f3dd-3233-4678-905a-17600240294c');\n",
              "var x = new MutationObserver(function (mutations, observer) {{\n",
              "        var display = window.getComputedStyle(gd).display;\n",
              "        if (!display || display === 'none') {{\n",
              "            console.log([gd, 'removed!']);\n",
              "            Plotly.purge(gd);\n",
              "            observer.disconnect();\n",
              "        }}\n",
              "}});\n",
              "\n",
              "// Listen for the removal of the full notebook cells\n",
              "var notebookContainer = gd.closest('#notebook-container');\n",
              "if (notebookContainer) {{\n",
              "    x.observe(notebookContainer, {childList: true});\n",
              "}}\n",
              "\n",
              "// Listen for the clearing of the current output cell\n",
              "var outputEl = gd.closest('.output');\n",
              "if (outputEl) {{\n",
              "    x.observe(outputEl, {childList: true});\n",
              "}}\n",
              "\n",
              "                        })\n",
              "                };\n",
              "                \n",
              "            </script>\n",
              "        </div>\n",
              "</body>\n",
              "</html>"
            ]
          },
          "metadata": {
            "tags": []
          }
        }
      ]
    },
    {
      "cell_type": "markdown",
      "metadata": {
        "id": "zcAuDOvZMyV-"
      },
      "source": [
        "From the figure, we notice that the predicted value form the multiple regression is quite different from the true value."
      ]
    },
    {
      "cell_type": "markdown",
      "metadata": {
        "id": "jwoYTeZZPmkb"
      },
      "source": [
        "> Multiple regression model by adding age"
      ]
    },
    {
      "cell_type": "code",
      "metadata": {
        "colab": {
          "base_uri": "https://localhost:8080/"
        },
        "id": "nosqEklzQA8l",
        "outputId": "0cf16457-e499-4af6-f74e-55591c7f3f9e"
      },
      "source": [
        "df04 = df02[['2019/20','player_height','player_weight','age']]\n",
        "df04 = df04.dropna()\n",
        "\n",
        "if(df04['2019/20'].dtype != np.float64 and df04['2019/20'].dtype != np.int64):\n",
        "  df04['2019/20'] = df04['2019/20'].str.replace('$', '')\n",
        "  df04['2019/20'] = df04['2019/20'].str.replace(',', '')\n",
        "  df04['2019/20'] = df04['2019/20'].astype(int)\n",
        "df04['2019/20'] = np.log(df04[\"2019/20\"])\n",
        "\n",
        "\n",
        "mul_model = linear_model.LinearRegression()\n",
        "mul_model.fit(df04[[\"player_height\",\"player_weight\",\"age\"]], df04['2019/20'])\n",
        "\n",
        "beta_04 = mul_model.intercept_\n",
        "beta_14 = mul_model.coef_[0]\n",
        "beta_24 = mul_model.coef_[1]\n",
        "beta_34 = mul_model.coef_[2]\n",
        "print(f\"Fit model: log(Salary) = {beta_04:.4f} + {beta_14:.4f} player_height + {beta_24:.4f} player_weight + {beta_34:.4f} age\" )"
      ],
      "execution_count": 27,
      "outputs": [
        {
          "output_type": "stream",
          "text": [
            "Fit model: log(Salary) = 6.8997 + 0.0117 player_height + 0.0154 player_weight + 0.1580 age\n"
          ],
          "name": "stdout"
        }
      ]
    },
    {
      "cell_type": "code",
      "metadata": {
        "colab": {
          "base_uri": "https://localhost:8080/",
          "height": 577
        },
        "id": "Mnh6wQU3Rnnw",
        "outputId": "53943534-6138-4f68-80d4-9b5296b80158"
      },
      "source": [
        "y1, X1 = df04['2019/20'], df04.drop('2019/20', axis=1)\n",
        "X1 = preprocessing.normalize(X1)\n",
        "X1_train, X1_test, y1_train, y1_test = train_test_split(X1, y1, test_size=0.2, random_state=0)\n",
        "regr = MLPRegressor(random_state=0, \n",
        "                    hidden_layer_sizes = (64, 64, 64, 120),\n",
        "                    alpha=0.001,\n",
        "                    solver='lbfgs',\n",
        "                    learning_rate='invscaling', learning_rate_init=1e-5,\n",
        "                    max_iter=10000).fit(X1_train, y1_train)\n",
        "y1_predict = regr.predict(X1_test)\n",
        "print('Mean squared error: ', np.sqrt(mean_squared_error(y1_test, y1_predict)))\n",
        "print('Score: ', regr.score(X1_test, y1_test))\n",
        "\n",
        "fig1 = go.Figure()\n",
        "fig1.add_trace(go.Scatter(x=list(range(len(y1_predict))), y=y1_predict,\n",
        "                         mode='lines',\n",
        "                         name='Prediction'))\n",
        "fig1.add_trace(go.Scatter(x=list(range(len(y1_test))), y=y1_test,\n",
        "                         mode='lines',\n",
        "                         name='True value'))\n",
        "\n",
        "fig1.show()"
      ],
      "execution_count": 28,
      "outputs": [
        {
          "output_type": "stream",
          "text": [
            "Mean squared error:  1.5417234682113414\n",
            "Score:  0.18169687602998796\n"
          ],
          "name": "stdout"
        },
        {
          "output_type": "display_data",
          "data": {
            "text/html": [
              "<html>\n",
              "<head><meta charset=\"utf-8\" /></head>\n",
              "<body>\n",
              "    <div>\n",
              "            <script src=\"https://cdnjs.cloudflare.com/ajax/libs/mathjax/2.7.5/MathJax.js?config=TeX-AMS-MML_SVG\"></script><script type=\"text/javascript\">if (window.MathJax) {MathJax.Hub.Config({SVG: {font: \"STIX-Web\"}});}</script>\n",
              "                <script type=\"text/javascript\">window.PlotlyConfig = {MathJaxConfig: 'local'};</script>\n",
              "        <script src=\"https://cdn.plot.ly/plotly-latest.min.js\"></script>    \n",
              "            <div id=\"3d495f00-a83b-4f17-87c9-53a3ddeff48c\" class=\"plotly-graph-div\" style=\"height:525px; width:100%;\"></div>\n",
              "            <script type=\"text/javascript\">\n",
              "                \n",
              "                    window.PLOTLYENV=window.PLOTLYENV || {};\n",
              "                    \n",
              "                if (document.getElementById(\"3d495f00-a83b-4f17-87c9-53a3ddeff48c\")) {\n",
              "                    Plotly.newPlot(\n",
              "                        '3d495f00-a83b-4f17-87c9-53a3ddeff48c',\n",
              "                        [{\"mode\": \"lines\", \"name\": \"Prediction\", \"type\": \"scatter\", \"x\": [0, 1, 2, 3, 4, 5, 6, 7, 8, 9, 10, 11, 12, 13, 14, 15, 16, 17, 18, 19, 20, 21, 22, 23, 24, 25, 26, 27, 28, 29, 30, 31, 32, 33, 34, 35, 36, 37, 38, 39, 40, 41, 42, 43, 44, 45, 46, 47, 48, 49, 50, 51, 52, 53, 54, 55, 56, 57, 58, 59, 60, 61, 62, 63, 64, 65, 66, 67, 68, 69, 70, 71, 72, 73, 74, 75, 76, 77, 78, 79, 80, 81, 82, 83, 84, 85, 86, 87, 88], \"y\": [14.37052850045979, 14.029566198882813, 14.812254049025652, 14.417989247934889, 14.350058575423253, 14.297439667673503, 16.003419068586254, 14.925310717295282, 14.152982965121238, 14.625961182806238, 14.698496591655795, 14.950862329360083, 14.762882942571272, 15.85726418876671, 14.749094451049361, 15.877801637672384, 14.187064786567015, 15.983777895694026, 15.927154842314813, 14.03392533249977, 16.075676267609353, 15.937205774780496, 13.885054679473289, 13.941875246492229, 15.638684985166416, 14.175848226631327, 14.330050813053834, 15.984318134961981, 15.254959697934988, 15.509830857477834, 13.763210842939825, 14.137389407837876, 15.58692242635988, 13.859002847370627, 15.022698866518184, 14.376042203737944, 14.443576513715863, 14.287235117067656, 13.879919686164044, 13.688541503266906, 14.187055867921101, 14.02410650240163, 14.258630430417226, 14.092351797312556, 13.938433690377956, 14.338880041760808, 15.481573066364431, 15.90005504259657, 14.522633687229055, 15.03905775730149, 14.42805768800497, 15.733990755236167, 14.132777668069965, 13.931863610345602, 14.460300276405045, 15.525924778425951, 13.937918040415639, 14.315278882304153, 14.513131904926146, 15.928939059354581, 14.465294571921744, 15.63067862007509, 15.17133817088074, 15.71407311902046, 15.640155411888246, 14.035306652176127, 16.10330075744534, 14.441700968021609, 14.619312165151952, 13.84881849606696, 16.079472533853455, 15.625979172877217, 14.81655431210841, 16.4883732091525, 14.255125833335745, 15.773562167825014, 15.73632701072798, 14.193696586012367, 14.74945194134026, 14.574820177029748, 14.995525150566701, 14.920412490612636, 16.0775109412818, 15.090078821164465, 15.336427364824127, 15.156065446513491, 15.870082194411328, 16.182771717067858, 15.789401332832307]}, {\"mode\": \"lines\", \"name\": \"True value\", \"type\": \"scatter\", \"x\": [0, 1, 2, 3, 4, 5, 6, 7, 8, 9, 10, 11, 12, 13, 14, 15, 16, 17, 18, 19, 20, 21, 22, 23, 24, 25, 26, 27, 28, 29, 30, 31, 32, 33, 34, 35, 36, 37, 38, 39, 40, 41, 42, 43, 44, 45, 46, 47, 48, 49, 50, 51, 52, 53, 54, 55, 56, 57, 58, 59, 60, 61, 62, 63, 64, 65, 66, 67, 68, 69, 70, 71, 72, 73, 74, 75, 76, 77, 78, 79, 80, 81, 82, 83, 84, 85, 86, 87, 88], \"y\": [13.70827049929382, 14.66237403830784, 14.522853500214838, 11.28436728095452, 11.527853485554465, 11.28436728095452, 17.302906736562292, 11.424717008129967, 15.087976148755489, 15.055066698972361, 16.413559863852157, 15.687312734865866, 14.332359008044527, 15.377227734186963, 14.525101790940152, 17.138385071624885, 15.107549183158444, 17.46633714872281, 17.304169215396424, 15.003634428835854, 16.45749901619327, 17.0675386044972, 12.429216196844383, 11.28436728095452, 14.428152965781726, 16.129685824652782, 14.593680180560064, 11.28436728095452, 14.184102116175062, 15.03266648184846, 13.241649283185458, 14.470893564103202, 13.296521705526333, 13.975339372344797, 14.448306173174474, 13.70827049929382, 15.261421974652635, 14.74399859929381, 11.28436728095452, 14.298284794767211, 15.48455987319939, 15.981051811193058, 14.16394806720525, 11.40585237257854, 14.16394806720525, 14.345689296246006, 15.385727901245083, 16.7353941914346, 15.492234526103637, 16.523560759066484, 14.46345114568614, 17.320956717532788, 14.020918560103524, 14.16394806720525, 15.483292847372619, 17.236623240313286, 14.184102116175062, 16.657508731576222, 14.475183681666502, 15.736102899035297, 16.70588231586044, 15.89495209964411, 16.090970672563262, 15.852392528703573, 12.98242061868288, 16.129628886771993, 15.424948470398375, 15.761420707019587, 15.201804919084164, 11.097076632107324, 16.308139315384643, 16.659558233410337, 13.815510557964274, 14.757372735653925, 11.28436728095452, 16.600521800202614, 11.28436728095452, 15.520258650202699, 15.912212527700104, 14.497091102152753, 15.201804919084164, 16.17689272146678, 15.377227734186963, 16.050475372748355, 13.035582519297725, 14.914122846632385, 15.807940677199934, 16.77404255191381, 16.739024549697653]}],\n",
              "                        {\"template\": {\"data\": {\"bar\": [{\"error_x\": {\"color\": \"#2a3f5f\"}, \"error_y\": {\"color\": \"#2a3f5f\"}, \"marker\": {\"line\": {\"color\": \"#E5ECF6\", \"width\": 0.5}}, \"type\": \"bar\"}], \"barpolar\": [{\"marker\": {\"line\": {\"color\": \"#E5ECF6\", \"width\": 0.5}}, \"type\": \"barpolar\"}], \"carpet\": [{\"aaxis\": {\"endlinecolor\": \"#2a3f5f\", \"gridcolor\": \"white\", \"linecolor\": \"white\", \"minorgridcolor\": \"white\", \"startlinecolor\": \"#2a3f5f\"}, \"baxis\": {\"endlinecolor\": \"#2a3f5f\", \"gridcolor\": \"white\", \"linecolor\": \"white\", \"minorgridcolor\": \"white\", \"startlinecolor\": \"#2a3f5f\"}, \"type\": \"carpet\"}], \"choropleth\": [{\"colorbar\": {\"outlinewidth\": 0, \"ticks\": \"\"}, \"type\": \"choropleth\"}], \"contour\": [{\"colorbar\": {\"outlinewidth\": 0, \"ticks\": \"\"}, \"colorscale\": [[0.0, \"#0d0887\"], [0.1111111111111111, \"#46039f\"], [0.2222222222222222, \"#7201a8\"], [0.3333333333333333, \"#9c179e\"], [0.4444444444444444, \"#bd3786\"], [0.5555555555555556, \"#d8576b\"], [0.6666666666666666, \"#ed7953\"], [0.7777777777777778, \"#fb9f3a\"], [0.8888888888888888, \"#fdca26\"], [1.0, \"#f0f921\"]], \"type\": \"contour\"}], \"contourcarpet\": [{\"colorbar\": {\"outlinewidth\": 0, \"ticks\": \"\"}, \"type\": \"contourcarpet\"}], \"heatmap\": [{\"colorbar\": {\"outlinewidth\": 0, \"ticks\": \"\"}, \"colorscale\": [[0.0, \"#0d0887\"], [0.1111111111111111, \"#46039f\"], [0.2222222222222222, \"#7201a8\"], [0.3333333333333333, \"#9c179e\"], [0.4444444444444444, \"#bd3786\"], [0.5555555555555556, \"#d8576b\"], [0.6666666666666666, \"#ed7953\"], [0.7777777777777778, \"#fb9f3a\"], [0.8888888888888888, \"#fdca26\"], [1.0, \"#f0f921\"]], \"type\": \"heatmap\"}], \"heatmapgl\": [{\"colorbar\": {\"outlinewidth\": 0, \"ticks\": \"\"}, \"colorscale\": [[0.0, \"#0d0887\"], [0.1111111111111111, \"#46039f\"], [0.2222222222222222, \"#7201a8\"], [0.3333333333333333, \"#9c179e\"], [0.4444444444444444, \"#bd3786\"], [0.5555555555555556, \"#d8576b\"], [0.6666666666666666, \"#ed7953\"], [0.7777777777777778, \"#fb9f3a\"], [0.8888888888888888, \"#fdca26\"], [1.0, \"#f0f921\"]], \"type\": \"heatmapgl\"}], \"histogram\": [{\"marker\": {\"colorbar\": {\"outlinewidth\": 0, \"ticks\": \"\"}}, \"type\": \"histogram\"}], \"histogram2d\": [{\"colorbar\": {\"outlinewidth\": 0, \"ticks\": \"\"}, \"colorscale\": [[0.0, \"#0d0887\"], [0.1111111111111111, \"#46039f\"], [0.2222222222222222, \"#7201a8\"], [0.3333333333333333, \"#9c179e\"], [0.4444444444444444, \"#bd3786\"], [0.5555555555555556, \"#d8576b\"], [0.6666666666666666, \"#ed7953\"], [0.7777777777777778, \"#fb9f3a\"], [0.8888888888888888, \"#fdca26\"], [1.0, \"#f0f921\"]], \"type\": \"histogram2d\"}], \"histogram2dcontour\": [{\"colorbar\": {\"outlinewidth\": 0, \"ticks\": \"\"}, \"colorscale\": [[0.0, \"#0d0887\"], [0.1111111111111111, \"#46039f\"], [0.2222222222222222, \"#7201a8\"], [0.3333333333333333, \"#9c179e\"], [0.4444444444444444, \"#bd3786\"], [0.5555555555555556, \"#d8576b\"], [0.6666666666666666, \"#ed7953\"], [0.7777777777777778, \"#fb9f3a\"], [0.8888888888888888, \"#fdca26\"], [1.0, \"#f0f921\"]], \"type\": \"histogram2dcontour\"}], \"mesh3d\": [{\"colorbar\": {\"outlinewidth\": 0, \"ticks\": \"\"}, \"type\": \"mesh3d\"}], \"parcoords\": [{\"line\": {\"colorbar\": {\"outlinewidth\": 0, \"ticks\": \"\"}}, \"type\": \"parcoords\"}], \"pie\": [{\"automargin\": true, \"type\": \"pie\"}], \"scatter\": [{\"marker\": {\"colorbar\": {\"outlinewidth\": 0, \"ticks\": \"\"}}, \"type\": \"scatter\"}], \"scatter3d\": [{\"line\": {\"colorbar\": {\"outlinewidth\": 0, \"ticks\": \"\"}}, \"marker\": {\"colorbar\": {\"outlinewidth\": 0, \"ticks\": \"\"}}, \"type\": \"scatter3d\"}], \"scattercarpet\": [{\"marker\": {\"colorbar\": {\"outlinewidth\": 0, \"ticks\": \"\"}}, \"type\": \"scattercarpet\"}], \"scattergeo\": [{\"marker\": {\"colorbar\": {\"outlinewidth\": 0, \"ticks\": \"\"}}, \"type\": \"scattergeo\"}], \"scattergl\": [{\"marker\": {\"colorbar\": {\"outlinewidth\": 0, \"ticks\": \"\"}}, \"type\": \"scattergl\"}], \"scattermapbox\": [{\"marker\": {\"colorbar\": {\"outlinewidth\": 0, \"ticks\": \"\"}}, \"type\": \"scattermapbox\"}], \"scatterpolar\": [{\"marker\": {\"colorbar\": {\"outlinewidth\": 0, \"ticks\": \"\"}}, \"type\": \"scatterpolar\"}], \"scatterpolargl\": [{\"marker\": {\"colorbar\": {\"outlinewidth\": 0, \"ticks\": \"\"}}, \"type\": \"scatterpolargl\"}], \"scatterternary\": [{\"marker\": {\"colorbar\": {\"outlinewidth\": 0, \"ticks\": \"\"}}, \"type\": \"scatterternary\"}], \"surface\": [{\"colorbar\": {\"outlinewidth\": 0, \"ticks\": \"\"}, \"colorscale\": [[0.0, \"#0d0887\"], [0.1111111111111111, \"#46039f\"], [0.2222222222222222, \"#7201a8\"], [0.3333333333333333, \"#9c179e\"], [0.4444444444444444, \"#bd3786\"], [0.5555555555555556, \"#d8576b\"], [0.6666666666666666, \"#ed7953\"], [0.7777777777777778, \"#fb9f3a\"], [0.8888888888888888, \"#fdca26\"], [1.0, \"#f0f921\"]], \"type\": \"surface\"}], \"table\": [{\"cells\": {\"fill\": {\"color\": \"#EBF0F8\"}, \"line\": {\"color\": \"white\"}}, \"header\": {\"fill\": {\"color\": \"#C8D4E3\"}, \"line\": {\"color\": \"white\"}}, \"type\": \"table\"}]}, \"layout\": {\"annotationdefaults\": {\"arrowcolor\": \"#2a3f5f\", \"arrowhead\": 0, \"arrowwidth\": 1}, \"coloraxis\": {\"colorbar\": {\"outlinewidth\": 0, \"ticks\": \"\"}}, \"colorscale\": {\"diverging\": [[0, \"#8e0152\"], [0.1, \"#c51b7d\"], [0.2, \"#de77ae\"], [0.3, \"#f1b6da\"], [0.4, \"#fde0ef\"], [0.5, \"#f7f7f7\"], [0.6, \"#e6f5d0\"], [0.7, \"#b8e186\"], [0.8, \"#7fbc41\"], [0.9, \"#4d9221\"], [1, \"#276419\"]], \"sequential\": [[0.0, \"#0d0887\"], [0.1111111111111111, \"#46039f\"], [0.2222222222222222, \"#7201a8\"], [0.3333333333333333, \"#9c179e\"], [0.4444444444444444, \"#bd3786\"], [0.5555555555555556, \"#d8576b\"], [0.6666666666666666, \"#ed7953\"], [0.7777777777777778, \"#fb9f3a\"], [0.8888888888888888, \"#fdca26\"], [1.0, \"#f0f921\"]], \"sequentialminus\": [[0.0, \"#0d0887\"], [0.1111111111111111, \"#46039f\"], [0.2222222222222222, \"#7201a8\"], [0.3333333333333333, \"#9c179e\"], [0.4444444444444444, \"#bd3786\"], [0.5555555555555556, \"#d8576b\"], [0.6666666666666666, \"#ed7953\"], [0.7777777777777778, \"#fb9f3a\"], [0.8888888888888888, \"#fdca26\"], [1.0, \"#f0f921\"]]}, \"colorway\": [\"#636efa\", \"#EF553B\", \"#00cc96\", \"#ab63fa\", \"#FFA15A\", \"#19d3f3\", \"#FF6692\", \"#B6E880\", \"#FF97FF\", \"#FECB52\"], \"font\": {\"color\": \"#2a3f5f\"}, \"geo\": {\"bgcolor\": \"white\", \"lakecolor\": \"white\", \"landcolor\": \"#E5ECF6\", \"showlakes\": true, \"showland\": true, \"subunitcolor\": \"white\"}, \"hoverlabel\": {\"align\": \"left\"}, \"hovermode\": \"closest\", \"mapbox\": {\"style\": \"light\"}, \"paper_bgcolor\": \"white\", \"plot_bgcolor\": \"#E5ECF6\", \"polar\": {\"angularaxis\": {\"gridcolor\": \"white\", \"linecolor\": \"white\", \"ticks\": \"\"}, \"bgcolor\": \"#E5ECF6\", \"radialaxis\": {\"gridcolor\": \"white\", \"linecolor\": \"white\", \"ticks\": \"\"}}, \"scene\": {\"xaxis\": {\"backgroundcolor\": \"#E5ECF6\", \"gridcolor\": \"white\", \"gridwidth\": 2, \"linecolor\": \"white\", \"showbackground\": true, \"ticks\": \"\", \"zerolinecolor\": \"white\"}, \"yaxis\": {\"backgroundcolor\": \"#E5ECF6\", \"gridcolor\": \"white\", \"gridwidth\": 2, \"linecolor\": \"white\", \"showbackground\": true, \"ticks\": \"\", \"zerolinecolor\": \"white\"}, \"zaxis\": {\"backgroundcolor\": \"#E5ECF6\", \"gridcolor\": \"white\", \"gridwidth\": 2, \"linecolor\": \"white\", \"showbackground\": true, \"ticks\": \"\", \"zerolinecolor\": \"white\"}}, \"shapedefaults\": {\"line\": {\"color\": \"#2a3f5f\"}}, \"ternary\": {\"aaxis\": {\"gridcolor\": \"white\", \"linecolor\": \"white\", \"ticks\": \"\"}, \"baxis\": {\"gridcolor\": \"white\", \"linecolor\": \"white\", \"ticks\": \"\"}, \"bgcolor\": \"#E5ECF6\", \"caxis\": {\"gridcolor\": \"white\", \"linecolor\": \"white\", \"ticks\": \"\"}}, \"title\": {\"x\": 0.05}, \"xaxis\": {\"automargin\": true, \"gridcolor\": \"white\", \"linecolor\": \"white\", \"ticks\": \"\", \"title\": {\"standoff\": 15}, \"zerolinecolor\": \"white\", \"zerolinewidth\": 2}, \"yaxis\": {\"automargin\": true, \"gridcolor\": \"white\", \"linecolor\": \"white\", \"ticks\": \"\", \"title\": {\"standoff\": 15}, \"zerolinecolor\": \"white\", \"zerolinewidth\": 2}}}},\n",
              "                        {\"responsive\": true}\n",
              "                    ).then(function(){\n",
              "                            \n",
              "var gd = document.getElementById('3d495f00-a83b-4f17-87c9-53a3ddeff48c');\n",
              "var x = new MutationObserver(function (mutations, observer) {{\n",
              "        var display = window.getComputedStyle(gd).display;\n",
              "        if (!display || display === 'none') {{\n",
              "            console.log([gd, 'removed!']);\n",
              "            Plotly.purge(gd);\n",
              "            observer.disconnect();\n",
              "        }}\n",
              "}});\n",
              "\n",
              "// Listen for the removal of the full notebook cells\n",
              "var notebookContainer = gd.closest('#notebook-container');\n",
              "if (notebookContainer) {{\n",
              "    x.observe(notebookContainer, {childList: true});\n",
              "}}\n",
              "\n",
              "// Listen for the clearing of the current output cell\n",
              "var outputEl = gd.closest('.output');\n",
              "if (outputEl) {{\n",
              "    x.observe(outputEl, {childList: true});\n",
              "}}\n",
              "\n",
              "                        })\n",
              "                };\n",
              "                \n",
              "            </script>\n",
              "        </div>\n",
              "</body>\n",
              "</html>"
            ]
          },
          "metadata": {
            "tags": []
          }
        }
      ]
    },
    {
      "cell_type": "markdown",
      "metadata": {
        "id": "Oen4AL-MSbT5"
      },
      "source": [
        "Comaring to the model without adding age, the mean square error decrease from 1.8125 to 1.5417, which means the model fits better with adding age as the regressor. However, we still motice that our model cannot fit the data at some point. We then add the dummy variables (team) as a regressor."
      ]
    },
    {
      "cell_type": "markdown",
      "metadata": {
        "id": "55YlUsIOY01n"
      },
      "source": [
        "> Mutiple regession by adding dummy variable (Team Abbreviation)"
      ]
    },
    {
      "cell_type": "code",
      "metadata": {
        "colab": {
          "base_uri": "https://localhost:8080/",
          "height": 222
        },
        "id": "FW-7gSvNTQgC",
        "outputId": "e05dc778-399b-4e57-9e33-6a8b6477c28d"
      },
      "source": [
        "encoded = pd.get_dummies(df02[\"team_abbreviation\"])\n",
        "#df05.drop('team_abbreviation',axis=1,inplace=True)\n",
        "\n",
        "df05 = pd.concat([df04,encoded],axis=1)\n",
        "df05.head()"
      ],
      "execution_count": 29,
      "outputs": [
        {
          "output_type": "execute_result",
          "data": {
            "text/html": [
              "<div>\n",
              "<style scoped>\n",
              "    .dataframe tbody tr th:only-of-type {\n",
              "        vertical-align: middle;\n",
              "    }\n",
              "\n",
              "    .dataframe tbody tr th {\n",
              "        vertical-align: top;\n",
              "    }\n",
              "\n",
              "    .dataframe thead th {\n",
              "        text-align: right;\n",
              "    }\n",
              "</style>\n",
              "<table border=\"1\" class=\"dataframe\">\n",
              "  <thead>\n",
              "    <tr style=\"text-align: right;\">\n",
              "      <th></th>\n",
              "      <th>2019/20</th>\n",
              "      <th>player_height</th>\n",
              "      <th>player_weight</th>\n",
              "      <th>age</th>\n",
              "      <th>ATL</th>\n",
              "      <th>BKN</th>\n",
              "      <th>BOS</th>\n",
              "      <th>CHA</th>\n",
              "      <th>CHI</th>\n",
              "      <th>CLE</th>\n",
              "      <th>DAL</th>\n",
              "      <th>DEN</th>\n",
              "      <th>DET</th>\n",
              "      <th>GSW</th>\n",
              "      <th>HOU</th>\n",
              "      <th>IND</th>\n",
              "      <th>LAC</th>\n",
              "      <th>LAL</th>\n",
              "      <th>MEM</th>\n",
              "      <th>MIA</th>\n",
              "      <th>MIL</th>\n",
              "      <th>MIN</th>\n",
              "      <th>NOP</th>\n",
              "      <th>NYK</th>\n",
              "      <th>OKC</th>\n",
              "      <th>ORL</th>\n",
              "      <th>PHI</th>\n",
              "      <th>PHX</th>\n",
              "      <th>POR</th>\n",
              "      <th>SAC</th>\n",
              "      <th>SAS</th>\n",
              "      <th>TOR</th>\n",
              "      <th>UTA</th>\n",
              "      <th>WAS</th>\n",
              "    </tr>\n",
              "  </thead>\n",
              "  <tbody>\n",
              "    <tr>\n",
              "      <th>10</th>\n",
              "      <td>17.510167</td>\n",
              "      <td>190.50</td>\n",
              "      <td>83.91452</td>\n",
              "      <td>31.0</td>\n",
              "      <td>0</td>\n",
              "      <td>0</td>\n",
              "      <td>0</td>\n",
              "      <td>0</td>\n",
              "      <td>0</td>\n",
              "      <td>0</td>\n",
              "      <td>0</td>\n",
              "      <td>0</td>\n",
              "      <td>0</td>\n",
              "      <td>1</td>\n",
              "      <td>0</td>\n",
              "      <td>0</td>\n",
              "      <td>0</td>\n",
              "      <td>0</td>\n",
              "      <td>0</td>\n",
              "      <td>0</td>\n",
              "      <td>0</td>\n",
              "      <td>0</td>\n",
              "      <td>0</td>\n",
              "      <td>0</td>\n",
              "      <td>0</td>\n",
              "      <td>0</td>\n",
              "      <td>0</td>\n",
              "      <td>0</td>\n",
              "      <td>0</td>\n",
              "      <td>0</td>\n",
              "      <td>0</td>\n",
              "      <td>0</td>\n",
              "      <td>0</td>\n",
              "      <td>0</td>\n",
              "    </tr>\n",
              "    <tr>\n",
              "      <th>22</th>\n",
              "      <td>17.466337</td>\n",
              "      <td>190.50</td>\n",
              "      <td>90.71840</td>\n",
              "      <td>31.0</td>\n",
              "      <td>0</td>\n",
              "      <td>0</td>\n",
              "      <td>0</td>\n",
              "      <td>0</td>\n",
              "      <td>0</td>\n",
              "      <td>0</td>\n",
              "      <td>0</td>\n",
              "      <td>0</td>\n",
              "      <td>0</td>\n",
              "      <td>0</td>\n",
              "      <td>1</td>\n",
              "      <td>0</td>\n",
              "      <td>0</td>\n",
              "      <td>0</td>\n",
              "      <td>0</td>\n",
              "      <td>0</td>\n",
              "      <td>0</td>\n",
              "      <td>0</td>\n",
              "      <td>0</td>\n",
              "      <td>0</td>\n",
              "      <td>0</td>\n",
              "      <td>0</td>\n",
              "      <td>0</td>\n",
              "      <td>0</td>\n",
              "      <td>0</td>\n",
              "      <td>0</td>\n",
              "      <td>0</td>\n",
              "      <td>0</td>\n",
              "      <td>0</td>\n",
              "      <td>0</td>\n",
              "    </tr>\n",
              "    <tr>\n",
              "      <th>37</th>\n",
              "      <td>17.466337</td>\n",
              "      <td>185.42</td>\n",
              "      <td>79.37860</td>\n",
              "      <td>34.0</td>\n",
              "      <td>0</td>\n",
              "      <td>0</td>\n",
              "      <td>0</td>\n",
              "      <td>0</td>\n",
              "      <td>0</td>\n",
              "      <td>0</td>\n",
              "      <td>0</td>\n",
              "      <td>0</td>\n",
              "      <td>0</td>\n",
              "      <td>0</td>\n",
              "      <td>0</td>\n",
              "      <td>0</td>\n",
              "      <td>0</td>\n",
              "      <td>0</td>\n",
              "      <td>0</td>\n",
              "      <td>0</td>\n",
              "      <td>0</td>\n",
              "      <td>0</td>\n",
              "      <td>0</td>\n",
              "      <td>0</td>\n",
              "      <td>1</td>\n",
              "      <td>0</td>\n",
              "      <td>0</td>\n",
              "      <td>0</td>\n",
              "      <td>0</td>\n",
              "      <td>0</td>\n",
              "      <td>0</td>\n",
              "      <td>0</td>\n",
              "      <td>0</td>\n",
              "      <td>0</td>\n",
              "    </tr>\n",
              "    <tr>\n",
              "      <th>48</th>\n",
              "      <td>17.458320</td>\n",
              "      <td>195.58</td>\n",
              "      <td>99.79024</td>\n",
              "      <td>30.0</td>\n",
              "      <td>0</td>\n",
              "      <td>0</td>\n",
              "      <td>0</td>\n",
              "      <td>0</td>\n",
              "      <td>0</td>\n",
              "      <td>0</td>\n",
              "      <td>0</td>\n",
              "      <td>0</td>\n",
              "      <td>0</td>\n",
              "      <td>0</td>\n",
              "      <td>1</td>\n",
              "      <td>0</td>\n",
              "      <td>0</td>\n",
              "      <td>0</td>\n",
              "      <td>0</td>\n",
              "      <td>0</td>\n",
              "      <td>0</td>\n",
              "      <td>0</td>\n",
              "      <td>0</td>\n",
              "      <td>0</td>\n",
              "      <td>0</td>\n",
              "      <td>0</td>\n",
              "      <td>0</td>\n",
              "      <td>0</td>\n",
              "      <td>0</td>\n",
              "      <td>0</td>\n",
              "      <td>0</td>\n",
              "      <td>0</td>\n",
              "      <td>0</td>\n",
              "      <td>0</td>\n",
              "    </tr>\n",
              "    <tr>\n",
              "      <th>74</th>\n",
              "      <td>17.438166</td>\n",
              "      <td>205.74</td>\n",
              "      <td>113.39800</td>\n",
              "      <td>35.0</td>\n",
              "      <td>0</td>\n",
              "      <td>0</td>\n",
              "      <td>0</td>\n",
              "      <td>0</td>\n",
              "      <td>0</td>\n",
              "      <td>0</td>\n",
              "      <td>0</td>\n",
              "      <td>0</td>\n",
              "      <td>0</td>\n",
              "      <td>0</td>\n",
              "      <td>0</td>\n",
              "      <td>0</td>\n",
              "      <td>0</td>\n",
              "      <td>1</td>\n",
              "      <td>0</td>\n",
              "      <td>0</td>\n",
              "      <td>0</td>\n",
              "      <td>0</td>\n",
              "      <td>0</td>\n",
              "      <td>0</td>\n",
              "      <td>0</td>\n",
              "      <td>0</td>\n",
              "      <td>0</td>\n",
              "      <td>0</td>\n",
              "      <td>0</td>\n",
              "      <td>0</td>\n",
              "      <td>0</td>\n",
              "      <td>0</td>\n",
              "      <td>0</td>\n",
              "      <td>0</td>\n",
              "    </tr>\n",
              "  </tbody>\n",
              "</table>\n",
              "</div>"
            ],
            "text/plain": [
              "      2019/20  player_height  player_weight   age  ATL  ...  SAC  SAS  TOR  UTA  WAS\n",
              "10  17.510167         190.50       83.91452  31.0    0  ...    0    0    0    0    0\n",
              "22  17.466337         190.50       90.71840  31.0    0  ...    0    0    0    0    0\n",
              "37  17.466337         185.42       79.37860  34.0    0  ...    0    0    0    0    0\n",
              "48  17.458320         195.58       99.79024  30.0    0  ...    0    0    0    0    0\n",
              "74  17.438166         205.74      113.39800  35.0    0  ...    0    0    0    0    0\n",
              "\n",
              "[5 rows x 34 columns]"
            ]
          },
          "metadata": {
            "tags": []
          },
          "execution_count": 29
        }
      ]
    },
    {
      "cell_type": "code",
      "metadata": {
        "colab": {
          "base_uri": "https://localhost:8080/",
          "height": 577
        },
        "id": "1KE2kR_aZF4Q",
        "outputId": "52704f79-c79c-47a4-ae5c-6e0d655a903a"
      },
      "source": [
        "y2, X2 = df05['2019/20'], df05.drop('2019/20', axis=1)\n",
        "X2 = preprocessing.normalize(X2)\n",
        "X2_train, X2_test, y2_train, y2_test = train_test_split(X2, y2, test_size=0.2, random_state=0)\n",
        "regr = MLPRegressor(random_state=0, \n",
        "                    hidden_layer_sizes = (64, 64, 64, 120),\n",
        "                    alpha=0.001,\n",
        "                    solver='lbfgs',\n",
        "                    learning_rate='invscaling', learning_rate_init=1e-5,\n",
        "                    max_iter=10000).fit(X2_train, y2_train)\n",
        "y2_predict = regr.predict(X2_test)\n",
        "print('Mean squared error: ', np.sqrt(mean_squared_error(y2_test, y2_predict)))\n",
        "print('Score: ', regr.score(X2_test, y2_test))\n",
        "\n",
        "fig2 = go.Figure()\n",
        "fig2.add_trace(go.Scatter(x=list(range(len(y2_predict))), y=y2_predict,\n",
        "                         mode='lines',\n",
        "                         name='Prediction'))\n",
        "fig2.add_trace(go.Scatter(x=list(range(len(y2_test))), y=y2_test,\n",
        "                         mode='lines',\n",
        "                         name='True value'))\n",
        "\n",
        "fig2.show()"
      ],
      "execution_count": 30,
      "outputs": [
        {
          "output_type": "stream",
          "text": [
            "Mean squared error:  1.5618208636029793\n",
            "Score:  0.16022356707729746\n"
          ],
          "name": "stdout"
        },
        {
          "output_type": "display_data",
          "data": {
            "text/html": [
              "<html>\n",
              "<head><meta charset=\"utf-8\" /></head>\n",
              "<body>\n",
              "    <div>\n",
              "            <script src=\"https://cdnjs.cloudflare.com/ajax/libs/mathjax/2.7.5/MathJax.js?config=TeX-AMS-MML_SVG\"></script><script type=\"text/javascript\">if (window.MathJax) {MathJax.Hub.Config({SVG: {font: \"STIX-Web\"}});}</script>\n",
              "                <script type=\"text/javascript\">window.PlotlyConfig = {MathJaxConfig: 'local'};</script>\n",
              "        <script src=\"https://cdn.plot.ly/plotly-latest.min.js\"></script>    \n",
              "            <div id=\"7af4fde5-d376-43db-9342-5b332b08b359\" class=\"plotly-graph-div\" style=\"height:525px; width:100%;\"></div>\n",
              "            <script type=\"text/javascript\">\n",
              "                \n",
              "                    window.PLOTLYENV=window.PLOTLYENV || {};\n",
              "                    \n",
              "                if (document.getElementById(\"7af4fde5-d376-43db-9342-5b332b08b359\")) {\n",
              "                    Plotly.newPlot(\n",
              "                        '7af4fde5-d376-43db-9342-5b332b08b359',\n",
              "                        [{\"mode\": \"lines\", \"name\": \"Prediction\", \"type\": \"scatter\", \"x\": [0, 1, 2, 3, 4, 5, 6, 7, 8, 9, 10, 11, 12, 13, 14, 15, 16, 17, 18, 19, 20, 21, 22, 23, 24, 25, 26, 27, 28, 29, 30, 31, 32, 33, 34, 35, 36, 37, 38, 39, 40, 41, 42, 43, 44, 45, 46, 47, 48, 49, 50, 51, 52, 53, 54, 55, 56, 57, 58, 59, 60, 61, 62, 63, 64, 65, 66, 67, 68, 69, 70, 71, 72, 73, 74, 75, 76, 77, 78, 79, 80, 81, 82, 83, 84, 85, 86, 87, 88], \"y\": [14.657207651700817, 14.139868212809919, 14.59651330294498, 14.721073589289377, 14.211384620278016, 14.105928097956024, 15.370641312104516, 14.642925263946877, 14.041561612821848, 14.796650558769189, 14.637790946034384, 14.964607081163008, 14.901216435536362, 15.943826416904136, 14.90043227794556, 15.526966752720222, 14.169830472601651, 15.57956811528731, 15.623303668642544, 14.497222453467913, 15.694297608617878, 15.36625802107065, 14.39504390811229, 14.292940286565507, 14.81507722419706, 14.53430172830824, 14.711926536971012, 15.394995483919017, 15.0403411647616, 15.163088481523623, 14.318383123878393, 14.291970603409817, 15.215683564550375, 14.340756265965464, 14.980047343350794, 14.19473449227233, 13.971893333681285, 14.226888575865393, 14.419969482266607, 14.233986817589084, 14.128585707238583, 14.259863841444052, 14.552433521633478, 14.488932165537886, 14.504857744524452, 14.200696510181407, 15.117290317093206, 15.733787547605791, 14.746260645086602, 15.006419655594454, 14.019752736296867, 16.210967801852497, 14.451605842105876, 14.248324167717007, 14.164665563079312, 15.142955027726511, 14.53085402285805, 14.5828290883363, 14.74376915018534, 15.496589631879184, 14.612694670658744, 15.223982676064878, 14.992346525657245, 15.237400640959743, 16.284437133147208, 14.523318303167565, 15.410292870513517, 14.707967480748122, 14.808295728647897, 14.10483348770106, 16.271064085337706, 16.303577154769428, 14.924571626461075, 15.86266815801088, 14.358027637462241, 14.998416940621881, 15.277278920579903, 14.60385899720549, 14.806193716937683, 14.701449198527293, 14.847977681334644, 14.92820374133869, 16.24897358387053, 14.95279359054553, 14.98838160973849, 15.038659842378612, 15.369236267182984, 15.15646528029562, 15.688958915269621]}, {\"mode\": \"lines\", \"name\": \"True value\", \"type\": \"scatter\", \"x\": [0, 1, 2, 3, 4, 5, 6, 7, 8, 9, 10, 11, 12, 13, 14, 15, 16, 17, 18, 19, 20, 21, 22, 23, 24, 25, 26, 27, 28, 29, 30, 31, 32, 33, 34, 35, 36, 37, 38, 39, 40, 41, 42, 43, 44, 45, 46, 47, 48, 49, 50, 51, 52, 53, 54, 55, 56, 57, 58, 59, 60, 61, 62, 63, 64, 65, 66, 67, 68, 69, 70, 71, 72, 73, 74, 75, 76, 77, 78, 79, 80, 81, 82, 83, 84, 85, 86, 87, 88], \"y\": [13.70827049929382, 14.66237403830784, 14.522853500214838, 11.28436728095452, 11.527853485554465, 11.28436728095452, 17.302906736562292, 11.424717008129967, 15.087976148755489, 15.055066698972361, 16.413559863852157, 15.687312734865866, 14.332359008044527, 15.377227734186963, 14.525101790940152, 17.138385071624885, 15.107549183158444, 17.46633714872281, 17.304169215396424, 15.003634428835854, 16.45749901619327, 17.0675386044972, 12.429216196844383, 11.28436728095452, 14.428152965781726, 16.129685824652782, 14.593680180560064, 11.28436728095452, 14.184102116175062, 15.03266648184846, 13.241649283185458, 14.470893564103202, 13.296521705526333, 13.975339372344797, 14.448306173174474, 13.70827049929382, 15.261421974652635, 14.74399859929381, 11.28436728095452, 14.298284794767211, 15.48455987319939, 15.981051811193058, 14.16394806720525, 11.40585237257854, 14.16394806720525, 14.345689296246006, 15.385727901245083, 16.7353941914346, 15.492234526103637, 16.523560759066484, 14.46345114568614, 17.320956717532788, 14.020918560103524, 14.16394806720525, 15.483292847372619, 17.236623240313286, 14.184102116175062, 16.657508731576222, 14.475183681666502, 15.736102899035297, 16.70588231586044, 15.89495209964411, 16.090970672563262, 15.852392528703573, 12.98242061868288, 16.129628886771993, 15.424948470398375, 15.761420707019587, 15.201804919084164, 11.097076632107324, 16.308139315384643, 16.659558233410337, 13.815510557964274, 14.757372735653925, 11.28436728095452, 16.600521800202614, 11.28436728095452, 15.520258650202699, 15.912212527700104, 14.497091102152753, 15.201804919084164, 16.17689272146678, 15.377227734186963, 16.050475372748355, 13.035582519297725, 14.914122846632385, 15.807940677199934, 16.77404255191381, 16.739024549697653]}],\n",
              "                        {\"template\": {\"data\": {\"bar\": [{\"error_x\": {\"color\": \"#2a3f5f\"}, \"error_y\": {\"color\": \"#2a3f5f\"}, \"marker\": {\"line\": {\"color\": \"#E5ECF6\", \"width\": 0.5}}, \"type\": \"bar\"}], \"barpolar\": [{\"marker\": {\"line\": {\"color\": \"#E5ECF6\", \"width\": 0.5}}, \"type\": \"barpolar\"}], \"carpet\": [{\"aaxis\": {\"endlinecolor\": \"#2a3f5f\", \"gridcolor\": \"white\", \"linecolor\": \"white\", \"minorgridcolor\": \"white\", \"startlinecolor\": \"#2a3f5f\"}, \"baxis\": {\"endlinecolor\": \"#2a3f5f\", \"gridcolor\": \"white\", \"linecolor\": \"white\", \"minorgridcolor\": \"white\", \"startlinecolor\": \"#2a3f5f\"}, \"type\": \"carpet\"}], \"choropleth\": [{\"colorbar\": {\"outlinewidth\": 0, \"ticks\": \"\"}, \"type\": \"choropleth\"}], \"contour\": [{\"colorbar\": {\"outlinewidth\": 0, \"ticks\": \"\"}, \"colorscale\": [[0.0, \"#0d0887\"], [0.1111111111111111, \"#46039f\"], [0.2222222222222222, \"#7201a8\"], [0.3333333333333333, \"#9c179e\"], [0.4444444444444444, \"#bd3786\"], [0.5555555555555556, \"#d8576b\"], [0.6666666666666666, \"#ed7953\"], [0.7777777777777778, \"#fb9f3a\"], [0.8888888888888888, \"#fdca26\"], [1.0, \"#f0f921\"]], \"type\": \"contour\"}], \"contourcarpet\": [{\"colorbar\": {\"outlinewidth\": 0, \"ticks\": \"\"}, \"type\": \"contourcarpet\"}], \"heatmap\": [{\"colorbar\": {\"outlinewidth\": 0, \"ticks\": \"\"}, \"colorscale\": [[0.0, \"#0d0887\"], [0.1111111111111111, \"#46039f\"], [0.2222222222222222, \"#7201a8\"], [0.3333333333333333, \"#9c179e\"], [0.4444444444444444, \"#bd3786\"], [0.5555555555555556, \"#d8576b\"], [0.6666666666666666, \"#ed7953\"], [0.7777777777777778, \"#fb9f3a\"], [0.8888888888888888, \"#fdca26\"], [1.0, \"#f0f921\"]], \"type\": \"heatmap\"}], \"heatmapgl\": [{\"colorbar\": {\"outlinewidth\": 0, \"ticks\": \"\"}, \"colorscale\": [[0.0, \"#0d0887\"], [0.1111111111111111, \"#46039f\"], [0.2222222222222222, \"#7201a8\"], [0.3333333333333333, \"#9c179e\"], [0.4444444444444444, \"#bd3786\"], [0.5555555555555556, \"#d8576b\"], [0.6666666666666666, \"#ed7953\"], [0.7777777777777778, \"#fb9f3a\"], [0.8888888888888888, \"#fdca26\"], [1.0, \"#f0f921\"]], \"type\": \"heatmapgl\"}], \"histogram\": [{\"marker\": {\"colorbar\": {\"outlinewidth\": 0, \"ticks\": \"\"}}, \"type\": \"histogram\"}], \"histogram2d\": [{\"colorbar\": {\"outlinewidth\": 0, \"ticks\": \"\"}, \"colorscale\": [[0.0, \"#0d0887\"], [0.1111111111111111, \"#46039f\"], [0.2222222222222222, \"#7201a8\"], [0.3333333333333333, \"#9c179e\"], [0.4444444444444444, \"#bd3786\"], [0.5555555555555556, \"#d8576b\"], [0.6666666666666666, \"#ed7953\"], [0.7777777777777778, \"#fb9f3a\"], [0.8888888888888888, \"#fdca26\"], [1.0, \"#f0f921\"]], \"type\": \"histogram2d\"}], \"histogram2dcontour\": [{\"colorbar\": {\"outlinewidth\": 0, \"ticks\": \"\"}, \"colorscale\": [[0.0, \"#0d0887\"], [0.1111111111111111, \"#46039f\"], [0.2222222222222222, \"#7201a8\"], [0.3333333333333333, \"#9c179e\"], [0.4444444444444444, \"#bd3786\"], [0.5555555555555556, \"#d8576b\"], [0.6666666666666666, \"#ed7953\"], [0.7777777777777778, \"#fb9f3a\"], [0.8888888888888888, \"#fdca26\"], [1.0, \"#f0f921\"]], \"type\": \"histogram2dcontour\"}], \"mesh3d\": [{\"colorbar\": {\"outlinewidth\": 0, \"ticks\": \"\"}, \"type\": \"mesh3d\"}], \"parcoords\": [{\"line\": {\"colorbar\": {\"outlinewidth\": 0, \"ticks\": \"\"}}, \"type\": \"parcoords\"}], \"pie\": [{\"automargin\": true, \"type\": \"pie\"}], \"scatter\": [{\"marker\": {\"colorbar\": {\"outlinewidth\": 0, \"ticks\": \"\"}}, \"type\": \"scatter\"}], \"scatter3d\": [{\"line\": {\"colorbar\": {\"outlinewidth\": 0, \"ticks\": \"\"}}, \"marker\": {\"colorbar\": {\"outlinewidth\": 0, \"ticks\": \"\"}}, \"type\": \"scatter3d\"}], \"scattercarpet\": [{\"marker\": {\"colorbar\": {\"outlinewidth\": 0, \"ticks\": \"\"}}, \"type\": \"scattercarpet\"}], \"scattergeo\": [{\"marker\": {\"colorbar\": {\"outlinewidth\": 0, \"ticks\": \"\"}}, \"type\": \"scattergeo\"}], \"scattergl\": [{\"marker\": {\"colorbar\": {\"outlinewidth\": 0, \"ticks\": \"\"}}, \"type\": \"scattergl\"}], \"scattermapbox\": [{\"marker\": {\"colorbar\": {\"outlinewidth\": 0, \"ticks\": \"\"}}, \"type\": \"scattermapbox\"}], \"scatterpolar\": [{\"marker\": {\"colorbar\": {\"outlinewidth\": 0, \"ticks\": \"\"}}, \"type\": \"scatterpolar\"}], \"scatterpolargl\": [{\"marker\": {\"colorbar\": {\"outlinewidth\": 0, \"ticks\": \"\"}}, \"type\": \"scatterpolargl\"}], \"scatterternary\": [{\"marker\": {\"colorbar\": {\"outlinewidth\": 0, \"ticks\": \"\"}}, \"type\": \"scatterternary\"}], \"surface\": [{\"colorbar\": {\"outlinewidth\": 0, \"ticks\": \"\"}, \"colorscale\": [[0.0, \"#0d0887\"], [0.1111111111111111, \"#46039f\"], [0.2222222222222222, \"#7201a8\"], [0.3333333333333333, \"#9c179e\"], [0.4444444444444444, \"#bd3786\"], [0.5555555555555556, \"#d8576b\"], [0.6666666666666666, \"#ed7953\"], [0.7777777777777778, \"#fb9f3a\"], [0.8888888888888888, \"#fdca26\"], [1.0, \"#f0f921\"]], \"type\": \"surface\"}], \"table\": [{\"cells\": {\"fill\": {\"color\": \"#EBF0F8\"}, \"line\": {\"color\": \"white\"}}, \"header\": {\"fill\": {\"color\": \"#C8D4E3\"}, \"line\": {\"color\": \"white\"}}, \"type\": \"table\"}]}, \"layout\": {\"annotationdefaults\": {\"arrowcolor\": \"#2a3f5f\", \"arrowhead\": 0, \"arrowwidth\": 1}, \"coloraxis\": {\"colorbar\": {\"outlinewidth\": 0, \"ticks\": \"\"}}, \"colorscale\": {\"diverging\": [[0, \"#8e0152\"], [0.1, \"#c51b7d\"], [0.2, \"#de77ae\"], [0.3, \"#f1b6da\"], [0.4, \"#fde0ef\"], [0.5, \"#f7f7f7\"], [0.6, \"#e6f5d0\"], [0.7, \"#b8e186\"], [0.8, \"#7fbc41\"], [0.9, \"#4d9221\"], [1, \"#276419\"]], \"sequential\": [[0.0, \"#0d0887\"], [0.1111111111111111, \"#46039f\"], [0.2222222222222222, \"#7201a8\"], [0.3333333333333333, \"#9c179e\"], [0.4444444444444444, \"#bd3786\"], [0.5555555555555556, \"#d8576b\"], [0.6666666666666666, \"#ed7953\"], [0.7777777777777778, \"#fb9f3a\"], [0.8888888888888888, \"#fdca26\"], [1.0, \"#f0f921\"]], \"sequentialminus\": [[0.0, \"#0d0887\"], [0.1111111111111111, \"#46039f\"], [0.2222222222222222, \"#7201a8\"], [0.3333333333333333, \"#9c179e\"], [0.4444444444444444, \"#bd3786\"], [0.5555555555555556, \"#d8576b\"], [0.6666666666666666, \"#ed7953\"], [0.7777777777777778, \"#fb9f3a\"], [0.8888888888888888, \"#fdca26\"], [1.0, \"#f0f921\"]]}, \"colorway\": [\"#636efa\", \"#EF553B\", \"#00cc96\", \"#ab63fa\", \"#FFA15A\", \"#19d3f3\", \"#FF6692\", \"#B6E880\", \"#FF97FF\", \"#FECB52\"], \"font\": {\"color\": \"#2a3f5f\"}, \"geo\": {\"bgcolor\": \"white\", \"lakecolor\": \"white\", \"landcolor\": \"#E5ECF6\", \"showlakes\": true, \"showland\": true, \"subunitcolor\": \"white\"}, \"hoverlabel\": {\"align\": \"left\"}, \"hovermode\": \"closest\", \"mapbox\": {\"style\": \"light\"}, \"paper_bgcolor\": \"white\", \"plot_bgcolor\": \"#E5ECF6\", \"polar\": {\"angularaxis\": {\"gridcolor\": \"white\", \"linecolor\": \"white\", \"ticks\": \"\"}, \"bgcolor\": \"#E5ECF6\", \"radialaxis\": {\"gridcolor\": \"white\", \"linecolor\": \"white\", \"ticks\": \"\"}}, \"scene\": {\"xaxis\": {\"backgroundcolor\": \"#E5ECF6\", \"gridcolor\": \"white\", \"gridwidth\": 2, \"linecolor\": \"white\", \"showbackground\": true, \"ticks\": \"\", \"zerolinecolor\": \"white\"}, \"yaxis\": {\"backgroundcolor\": \"#E5ECF6\", \"gridcolor\": \"white\", \"gridwidth\": 2, \"linecolor\": \"white\", \"showbackground\": true, \"ticks\": \"\", \"zerolinecolor\": \"white\"}, \"zaxis\": {\"backgroundcolor\": \"#E5ECF6\", \"gridcolor\": \"white\", \"gridwidth\": 2, \"linecolor\": \"white\", \"showbackground\": true, \"ticks\": \"\", \"zerolinecolor\": \"white\"}}, \"shapedefaults\": {\"line\": {\"color\": \"#2a3f5f\"}}, \"ternary\": {\"aaxis\": {\"gridcolor\": \"white\", \"linecolor\": \"white\", \"ticks\": \"\"}, \"baxis\": {\"gridcolor\": \"white\", \"linecolor\": \"white\", \"ticks\": \"\"}, \"bgcolor\": \"#E5ECF6\", \"caxis\": {\"gridcolor\": \"white\", \"linecolor\": \"white\", \"ticks\": \"\"}}, \"title\": {\"x\": 0.05}, \"xaxis\": {\"automargin\": true, \"gridcolor\": \"white\", \"linecolor\": \"white\", \"ticks\": \"\", \"title\": {\"standoff\": 15}, \"zerolinecolor\": \"white\", \"zerolinewidth\": 2}, \"yaxis\": {\"automargin\": true, \"gridcolor\": \"white\", \"linecolor\": \"white\", \"ticks\": \"\", \"title\": {\"standoff\": 15}, \"zerolinecolor\": \"white\", \"zerolinewidth\": 2}}}},\n",
              "                        {\"responsive\": true}\n",
              "                    ).then(function(){\n",
              "                            \n",
              "var gd = document.getElementById('7af4fde5-d376-43db-9342-5b332b08b359');\n",
              "var x = new MutationObserver(function (mutations, observer) {{\n",
              "        var display = window.getComputedStyle(gd).display;\n",
              "        if (!display || display === 'none') {{\n",
              "            console.log([gd, 'removed!']);\n",
              "            Plotly.purge(gd);\n",
              "            observer.disconnect();\n",
              "        }}\n",
              "}});\n",
              "\n",
              "// Listen for the removal of the full notebook cells\n",
              "var notebookContainer = gd.closest('#notebook-container');\n",
              "if (notebookContainer) {{\n",
              "    x.observe(notebookContainer, {childList: true});\n",
              "}}\n",
              "\n",
              "// Listen for the clearing of the current output cell\n",
              "var outputEl = gd.closest('.output');\n",
              "if (outputEl) {{\n",
              "    x.observe(outputEl, {childList: true});\n",
              "}}\n",
              "\n",
              "                        })\n",
              "                };\n",
              "                \n",
              "            </script>\n",
              "        </div>\n",
              "</body>\n",
              "</html>"
            ]
          },
          "metadata": {
            "tags": []
          }
        }
      ]
    },
    {
      "cell_type": "markdown",
      "metadata": {
        "id": "SSeO8CTfZ0k9"
      },
      "source": [
        "We notice that the mean square error doesn't change too much and the figue shows that the predicting model doesn't fit the true value well. The team abbreviation may not be the determinant of the salary. Thus, it may still exist omitted varible bias. We then add the Ranking data to the data frame."
      ]
    },
    {
      "cell_type": "code",
      "metadata": {
        "colab": {
          "base_uri": "https://localhost:8080/",
          "height": 202
        },
        "id": "_gpRb86n4zSb",
        "outputId": "b6d2314e-ba18-4a0a-896c-1e0490f03ab7"
      },
      "source": [
        "df06 = pd.merge(player_total,df02,on = 'Player', how='left')\n",
        "df06 = df06.dropna()\n",
        "df07 = df06[['2019/20','player_height','age','Rk']]\n",
        "df07.head()"
      ],
      "execution_count": 31,
      "outputs": [
        {
          "output_type": "execute_result",
          "data": {
            "text/html": [
              "<div>\n",
              "<style scoped>\n",
              "    .dataframe tbody tr th:only-of-type {\n",
              "        vertical-align: middle;\n",
              "    }\n",
              "\n",
              "    .dataframe tbody tr th {\n",
              "        vertical-align: top;\n",
              "    }\n",
              "\n",
              "    .dataframe thead th {\n",
              "        text-align: right;\n",
              "    }\n",
              "</style>\n",
              "<table border=\"1\" class=\"dataframe\">\n",
              "  <thead>\n",
              "    <tr style=\"text-align: right;\">\n",
              "      <th></th>\n",
              "      <th>2019/20</th>\n",
              "      <th>player_height</th>\n",
              "      <th>age</th>\n",
              "      <th>Rk</th>\n",
              "    </tr>\n",
              "  </thead>\n",
              "  <tbody>\n",
              "    <tr>\n",
              "      <th>0</th>\n",
              "      <td>$25,842,697</td>\n",
              "      <td>210.82</td>\n",
              "      <td>26.0</td>\n",
              "      <td>1</td>\n",
              "    </tr>\n",
              "    <tr>\n",
              "      <th>1</th>\n",
              "      <td>$3,454,080</td>\n",
              "      <td>205.74</td>\n",
              "      <td>22.0</td>\n",
              "      <td>2</td>\n",
              "    </tr>\n",
              "    <tr>\n",
              "      <th>2</th>\n",
              "      <td>$26,000,000</td>\n",
              "      <td>210.82</td>\n",
              "      <td>34.0</td>\n",
              "      <td>3</td>\n",
              "    </tr>\n",
              "    <tr>\n",
              "      <th>4</th>\n",
              "      <td>$2,964,840</td>\n",
              "      <td>195.58</td>\n",
              "      <td>21.0</td>\n",
              "      <td>5</td>\n",
              "    </tr>\n",
              "    <tr>\n",
              "      <th>5</th>\n",
              "      <td>$2,429,400</td>\n",
              "      <td>193.04</td>\n",
              "      <td>24.0</td>\n",
              "      <td>6</td>\n",
              "    </tr>\n",
              "  </tbody>\n",
              "</table>\n",
              "</div>"
            ],
            "text/plain": [
              "       2019/20  player_height   age Rk\n",
              "0  $25,842,697         210.82  26.0  1\n",
              "1   $3,454,080         205.74  22.0  2\n",
              "2  $26,000,000         210.82  34.0  3\n",
              "4   $2,964,840         195.58  21.0  5\n",
              "5   $2,429,400         193.04  24.0  6"
            ]
          },
          "metadata": {
            "tags": []
          },
          "execution_count": 31
        }
      ]
    },
    {
      "cell_type": "code",
      "metadata": {
        "colab": {
          "base_uri": "https://localhost:8080/"
        },
        "id": "vd7ubKdz7DpL",
        "outputId": "23170b90-4024-419b-a729-994ec4254e06"
      },
      "source": [
        "if(df07['2019/20'].dtype != np.float64 and df07['2019/20'].dtype != np.int64):\n",
        "  df07['2019/20'] = df07['2019/20'].str.replace('$', '')\n",
        "  df07['2019/20'] = df07['2019/20'].str.replace(',', '')\n",
        "  df07['2019/20'] = df07['2019/20'].astype(int)\n",
        "df07['2019/20'] = np.log(df07[\"2019/20\"])\n",
        "\n",
        "\n",
        "mul_model = linear_model.LinearRegression()\n",
        "mul_model.fit(df07[[\"player_height\",\"age\",\"Rk\"]], df07['2019/20'])\n",
        "\n",
        "beta_05 = mul_model.intercept_\n",
        "beta_15 = mul_model.coef_[0]\n",
        "beta_25 = mul_model.coef_[1]\n",
        "beta_35 = mul_model.coef_[2]\n",
        "#beta_45 = mul_model.coef_[3]\n",
        "print(f\"Fit model: log(Salary) = {beta_05:.4f} + {beta_15:.4f} player_height + {beta_25:.4f} age+ {beta_35:.4f} Rk\" )"
      ],
      "execution_count": 32,
      "outputs": [
        {
          "output_type": "stream",
          "text": [
            "Fit model: log(Salary) = 6.5897 + 0.0256 player_height + 0.1255 age+ -0.0004 Rk\n"
          ],
          "name": "stdout"
        },
        {
          "output_type": "stream",
          "text": [
            "/usr/local/lib/python3.6/dist-packages/ipykernel_launcher.py:2: SettingWithCopyWarning:\n",
            "\n",
            "\n",
            "A value is trying to be set on a copy of a slice from a DataFrame.\n",
            "Try using .loc[row_indexer,col_indexer] = value instead\n",
            "\n",
            "See the caveats in the documentation: https://pandas.pydata.org/pandas-docs/stable/user_guide/indexing.html#returning-a-view-versus-a-copy\n",
            "\n",
            "/usr/local/lib/python3.6/dist-packages/ipykernel_launcher.py:3: SettingWithCopyWarning:\n",
            "\n",
            "\n",
            "A value is trying to be set on a copy of a slice from a DataFrame.\n",
            "Try using .loc[row_indexer,col_indexer] = value instead\n",
            "\n",
            "See the caveats in the documentation: https://pandas.pydata.org/pandas-docs/stable/user_guide/indexing.html#returning-a-view-versus-a-copy\n",
            "\n",
            "/usr/local/lib/python3.6/dist-packages/ipykernel_launcher.py:4: SettingWithCopyWarning:\n",
            "\n",
            "\n",
            "A value is trying to be set on a copy of a slice from a DataFrame.\n",
            "Try using .loc[row_indexer,col_indexer] = value instead\n",
            "\n",
            "See the caveats in the documentation: https://pandas.pydata.org/pandas-docs/stable/user_guide/indexing.html#returning-a-view-versus-a-copy\n",
            "\n",
            "/usr/local/lib/python3.6/dist-packages/ipykernel_launcher.py:5: SettingWithCopyWarning:\n",
            "\n",
            "\n",
            "A value is trying to be set on a copy of a slice from a DataFrame.\n",
            "Try using .loc[row_indexer,col_indexer] = value instead\n",
            "\n",
            "See the caveats in the documentation: https://pandas.pydata.org/pandas-docs/stable/user_guide/indexing.html#returning-a-view-versus-a-copy\n",
            "\n"
          ],
          "name": "stderr"
        }
      ]
    },
    {
      "cell_type": "code",
      "metadata": {
        "colab": {
          "base_uri": "https://localhost:8080/",
          "height": 577
        },
        "id": "-5me1fCn7z1f",
        "outputId": "56dbab0c-8ed2-4d5b-f91f-1385190633d3"
      },
      "source": [
        "y3, X3 = df07['2019/20'], df07.drop('2019/20', axis=1)\n",
        "X3 = preprocessing.normalize(X3)\n",
        "X3_train, X3_test, y3_train, y3_test = train_test_split(X3, y3, test_size=0.2, random_state=0)\n",
        "regr = MLPRegressor(random_state=0, \n",
        "                    hidden_layer_sizes = (64, 64, 64, 120),\n",
        "                    alpha=0.001,\n",
        "                    solver='lbfgs',\n",
        "                    learning_rate='invscaling', learning_rate_init=1e-5,\n",
        "                    max_iter=10000).fit(X3_train, y3_train)\n",
        "y3_predict = regr.predict(X3_test)\n",
        "print('Mean squared error: ', np.sqrt(mean_squared_error(y3_test, y3_predict)))\n",
        "print('Score: ', regr.score(X3_test, y3_test))\n",
        "\n",
        "fig3 = go.Figure()\n",
        "fig3.add_trace(go.Scatter(x=list(range(len(y3_predict))), y=y3_predict,\n",
        "                         mode='lines',\n",
        "                         name='Prediction'))\n",
        "fig3.add_trace(go.Scatter(x=list(range(len(y3_test))), y=y3_test,\n",
        "                         mode='lines',\n",
        "                         name='True value'))\n",
        "\n",
        "fig3.show()"
      ],
      "execution_count": 33,
      "outputs": [
        {
          "output_type": "stream",
          "text": [
            "Mean squared error:  1.5724220424984319\n",
            "Score:  -0.05633627772591443\n"
          ],
          "name": "stdout"
        },
        {
          "output_type": "display_data",
          "data": {
            "text/html": [
              "<html>\n",
              "<head><meta charset=\"utf-8\" /></head>\n",
              "<body>\n",
              "    <div>\n",
              "            <script src=\"https://cdnjs.cloudflare.com/ajax/libs/mathjax/2.7.5/MathJax.js?config=TeX-AMS-MML_SVG\"></script><script type=\"text/javascript\">if (window.MathJax) {MathJax.Hub.Config({SVG: {font: \"STIX-Web\"}});}</script>\n",
              "                <script type=\"text/javascript\">window.PlotlyConfig = {MathJaxConfig: 'local'};</script>\n",
              "        <script src=\"https://cdn.plot.ly/plotly-latest.min.js\"></script>    \n",
              "            <div id=\"fd01ac66-a439-438b-82fd-1c1df9ea7ae0\" class=\"plotly-graph-div\" style=\"height:525px; width:100%;\"></div>\n",
              "            <script type=\"text/javascript\">\n",
              "                \n",
              "                    window.PLOTLYENV=window.PLOTLYENV || {};\n",
              "                    \n",
              "                if (document.getElementById(\"fd01ac66-a439-438b-82fd-1c1df9ea7ae0\")) {\n",
              "                    Plotly.newPlot(\n",
              "                        'fd01ac66-a439-438b-82fd-1c1df9ea7ae0',\n",
              "                        [{\"mode\": \"lines\", \"name\": \"Prediction\", \"type\": \"scatter\", \"x\": [0, 1, 2, 3, 4, 5, 6, 7, 8, 9, 10, 11, 12, 13, 14, 15, 16, 17, 18, 19, 20, 21, 22, 23, 24, 25, 26, 27, 28, 29, 30, 31, 32, 33, 34, 35, 36, 37, 38, 39, 40, 41, 42, 43, 44, 45, 46, 47, 48, 49, 50, 51, 52, 53, 54, 55, 56, 57, 58, 59, 60, 61, 62, 63, 64, 65, 66, 67, 68, 69, 70, 71, 72, 73, 74, 75, 76, 77, 78, 79, 80, 81, 82, 83, 84, 85, 86, 87, 88, 89, 90, 91, 92, 93, 94, 95, 96], \"y\": [17.112097574828358, 15.133304158638111, 14.984043478734673, 14.181576297822321, 15.581292833571615, 15.231338633160117, 14.540941419887645, 15.129610284247839, 14.670969011362706, 14.935629720458607, 15.041914178562344, 15.777442417519927, 14.949878156095634, 13.745878583740652, 15.576561015777877, 14.65905896282954, 14.268470554995334, 13.151014486526106, 15.745948868871643, 14.28244611910232, 14.751351643541547, 13.151014486526106, 16.205351492888898, 14.14960949557199, 15.002062926710046, 13.512833105378498, 15.101490869801054, 14.508552166574441, 14.739317818694174, 13.692326149165838, 15.407017309953796, 15.163791890475832, 15.002062926710046, 14.33450835882506, 14.74085096696238, 15.819576130200865, 14.775649417382079, 16.37008888705577, 13.619639632964011, 14.158352543828553, 17.37004133738032, 14.277334252887213, 14.455300788051339, 15.029169107565195, 15.755681993444071, 15.47598925620138, 13.628815698618464, 14.814412560984579, 14.856823824547714, 15.416868937469603, 15.695546431752277, 15.355846812811809, 14.775649417382079, 14.718209701175478, 14.85791344346041, 13.130548135251813, 15.875819648486017, 14.540896336225966, 14.54603468643666, 14.96591226471246, 14.279539414622322, 13.82508108358783, 14.775649417382079, 15.051002972766529, 15.057543811191925, 15.272424194312695, 14.854327248551119, 14.268470554995334, 15.845856656619578, 14.80806966698039, 15.231338633160117, 13.835300486080865, 14.261612731807825, 15.653650623447806, 16.205351492888898, 13.889745000749713, 14.005352549455063, 13.34853665531661, 15.351672630146922, 14.005157250730349, 15.351111026152111, 14.035992445750733, 15.283741751185486, 15.743635987061829, 14.434081649474386, 15.539458871447586, 15.875819648486017, 15.467061053266466, 15.431595505563283, 14.199575888685404, 15.247441842872306, 15.129627709535523, 14.914959694215455, 13.486285891168775, 14.266129719650326, 15.788517684880397, 14.599064367645644]}, {\"mode\": \"lines\", \"name\": \"True value\", \"type\": \"scatter\", \"x\": [0, 1, 2, 3, 4, 5, 6, 7, 8, 9, 10, 11, 12, 13, 14, 15, 16, 17, 18, 19, 20, 21, 22, 23, 24, 25, 26, 27, 28, 29, 30, 31, 32, 33, 34, 35, 36, 37, 38, 39, 40, 41, 42, 43, 44, 45, 46, 47, 48, 49, 50, 51, 52, 53, 54, 55, 56, 57, 58, 59, 60, 61, 62, 63, 64, 65, 66, 67, 68, 69, 70, 71, 72, 73, 74, 75, 76, 77, 78, 79, 80, 81, 82, 83, 84, 85, 86, 87, 88, 89, 90, 91, 92, 93, 94, 95, 96], \"y\": [16.316946509703484, 17.114786651188954, 12.117869649753892, 11.28436728095452, 15.807940677199934, 17.114786614279076, 15.261421974652635, 16.7353941914346, 16.240421153970555, 15.874744290272758, 14.428152965781726, 15.871623721687355, 14.16394806720525, 15.208879832756127, 12.117869649753892, 15.77113904491072, 14.657096708979891, 16.413559863852157, 15.201804919084164, 14.297022709392879, 13.311789635928214, 16.413559863852157, 16.546586943285643, 12.429216196844383, 14.448306173174474, 14.16394806720525, 14.73180128983843, 16.3727378693319, 12.766228287718063, 14.448306173174474, 12.98242061868288, 14.914122846632385, 14.448306173174474, 14.16394806720525, 14.580773727997148, 16.458682980387582, 14.042592742668731, 17.438166285111937, 13.70827049929382, 15.687312734865866, 14.585169141551246, 17.304169215396424, 15.03266648184846, 16.759949537130716, 16.602323447865288, 15.055066698972361, 15.982303418846838, 13.70827049929382, 11.28436728095452, 17.355018510430654, 17.45831989522368, 16.090970672563262, 14.042592742668731, 14.16394806720525, 13.70827049929382, 13.485289740441148, 13.147487116558482, 14.16394806720525, 13.713600748432677, 15.807940677199934, 11.28436728095452, 14.22097566607244, 14.042592742668731, 14.367753518998853, 16.716343297387464, 15.559129651864394, 15.385727901245083, 14.657096708979891, 14.757372735653925, 14.630825369998426, 17.114786614279076, 12.766228287718063, 14.313467939912494, 17.27315128304964, 16.546586943285643, 15.483292847372619, 16.38045991542581, 14.489658388514437, 11.28436728095452, 15.138705362140849, 15.377227734186963, 12.34243752005069, 15.377227734186963, 16.040998600573353, 14.593680180560064, 15.377227734186963, 13.147487116558482, 13.643923578876963, 16.02081903899297, 13.70827049929382, 17.0675386044972, 16.24849713803473, 14.456205878521795, 14.803772122793296, 17.129864912101596, 13.64166537499521, 16.45749901619327]}],\n",
              "                        {\"template\": {\"data\": {\"bar\": [{\"error_x\": {\"color\": \"#2a3f5f\"}, \"error_y\": {\"color\": \"#2a3f5f\"}, \"marker\": {\"line\": {\"color\": \"#E5ECF6\", \"width\": 0.5}}, \"type\": \"bar\"}], \"barpolar\": [{\"marker\": {\"line\": {\"color\": \"#E5ECF6\", \"width\": 0.5}}, \"type\": \"barpolar\"}], \"carpet\": [{\"aaxis\": {\"endlinecolor\": \"#2a3f5f\", \"gridcolor\": \"white\", \"linecolor\": \"white\", \"minorgridcolor\": \"white\", \"startlinecolor\": \"#2a3f5f\"}, \"baxis\": {\"endlinecolor\": \"#2a3f5f\", \"gridcolor\": \"white\", \"linecolor\": \"white\", \"minorgridcolor\": \"white\", \"startlinecolor\": \"#2a3f5f\"}, \"type\": \"carpet\"}], \"choropleth\": [{\"colorbar\": {\"outlinewidth\": 0, \"ticks\": \"\"}, \"type\": \"choropleth\"}], \"contour\": [{\"colorbar\": {\"outlinewidth\": 0, \"ticks\": \"\"}, \"colorscale\": [[0.0, \"#0d0887\"], [0.1111111111111111, \"#46039f\"], [0.2222222222222222, \"#7201a8\"], [0.3333333333333333, \"#9c179e\"], [0.4444444444444444, \"#bd3786\"], [0.5555555555555556, \"#d8576b\"], [0.6666666666666666, \"#ed7953\"], [0.7777777777777778, \"#fb9f3a\"], [0.8888888888888888, \"#fdca26\"], [1.0, \"#f0f921\"]], \"type\": \"contour\"}], \"contourcarpet\": [{\"colorbar\": {\"outlinewidth\": 0, \"ticks\": \"\"}, \"type\": \"contourcarpet\"}], \"heatmap\": [{\"colorbar\": {\"outlinewidth\": 0, \"ticks\": \"\"}, \"colorscale\": [[0.0, \"#0d0887\"], [0.1111111111111111, \"#46039f\"], [0.2222222222222222, \"#7201a8\"], [0.3333333333333333, \"#9c179e\"], [0.4444444444444444, \"#bd3786\"], [0.5555555555555556, \"#d8576b\"], [0.6666666666666666, \"#ed7953\"], [0.7777777777777778, \"#fb9f3a\"], [0.8888888888888888, \"#fdca26\"], [1.0, \"#f0f921\"]], \"type\": \"heatmap\"}], \"heatmapgl\": [{\"colorbar\": {\"outlinewidth\": 0, \"ticks\": \"\"}, \"colorscale\": [[0.0, \"#0d0887\"], [0.1111111111111111, \"#46039f\"], [0.2222222222222222, \"#7201a8\"], [0.3333333333333333, \"#9c179e\"], [0.4444444444444444, \"#bd3786\"], [0.5555555555555556, \"#d8576b\"], [0.6666666666666666, \"#ed7953\"], [0.7777777777777778, \"#fb9f3a\"], [0.8888888888888888, \"#fdca26\"], [1.0, \"#f0f921\"]], \"type\": \"heatmapgl\"}], \"histogram\": [{\"marker\": {\"colorbar\": {\"outlinewidth\": 0, \"ticks\": \"\"}}, \"type\": \"histogram\"}], \"histogram2d\": [{\"colorbar\": {\"outlinewidth\": 0, \"ticks\": \"\"}, \"colorscale\": [[0.0, \"#0d0887\"], [0.1111111111111111, \"#46039f\"], [0.2222222222222222, \"#7201a8\"], [0.3333333333333333, \"#9c179e\"], [0.4444444444444444, \"#bd3786\"], [0.5555555555555556, \"#d8576b\"], [0.6666666666666666, \"#ed7953\"], [0.7777777777777778, \"#fb9f3a\"], [0.8888888888888888, \"#fdca26\"], [1.0, \"#f0f921\"]], \"type\": \"histogram2d\"}], \"histogram2dcontour\": [{\"colorbar\": {\"outlinewidth\": 0, \"ticks\": \"\"}, \"colorscale\": [[0.0, \"#0d0887\"], [0.1111111111111111, \"#46039f\"], [0.2222222222222222, \"#7201a8\"], [0.3333333333333333, \"#9c179e\"], [0.4444444444444444, \"#bd3786\"], [0.5555555555555556, \"#d8576b\"], [0.6666666666666666, \"#ed7953\"], [0.7777777777777778, \"#fb9f3a\"], [0.8888888888888888, \"#fdca26\"], [1.0, \"#f0f921\"]], \"type\": \"histogram2dcontour\"}], \"mesh3d\": [{\"colorbar\": {\"outlinewidth\": 0, \"ticks\": \"\"}, \"type\": \"mesh3d\"}], \"parcoords\": [{\"line\": {\"colorbar\": {\"outlinewidth\": 0, \"ticks\": \"\"}}, \"type\": \"parcoords\"}], \"pie\": [{\"automargin\": true, \"type\": \"pie\"}], \"scatter\": [{\"marker\": {\"colorbar\": {\"outlinewidth\": 0, \"ticks\": \"\"}}, \"type\": \"scatter\"}], \"scatter3d\": [{\"line\": {\"colorbar\": {\"outlinewidth\": 0, \"ticks\": \"\"}}, \"marker\": {\"colorbar\": {\"outlinewidth\": 0, \"ticks\": \"\"}}, \"type\": \"scatter3d\"}], \"scattercarpet\": [{\"marker\": {\"colorbar\": {\"outlinewidth\": 0, \"ticks\": \"\"}}, \"type\": \"scattercarpet\"}], \"scattergeo\": [{\"marker\": {\"colorbar\": {\"outlinewidth\": 0, \"ticks\": \"\"}}, \"type\": \"scattergeo\"}], \"scattergl\": [{\"marker\": {\"colorbar\": {\"outlinewidth\": 0, \"ticks\": \"\"}}, \"type\": \"scattergl\"}], \"scattermapbox\": [{\"marker\": {\"colorbar\": {\"outlinewidth\": 0, \"ticks\": \"\"}}, \"type\": \"scattermapbox\"}], \"scatterpolar\": [{\"marker\": {\"colorbar\": {\"outlinewidth\": 0, \"ticks\": \"\"}}, \"type\": \"scatterpolar\"}], \"scatterpolargl\": [{\"marker\": {\"colorbar\": {\"outlinewidth\": 0, \"ticks\": \"\"}}, \"type\": \"scatterpolargl\"}], \"scatterternary\": [{\"marker\": {\"colorbar\": {\"outlinewidth\": 0, \"ticks\": \"\"}}, \"type\": \"scatterternary\"}], \"surface\": [{\"colorbar\": {\"outlinewidth\": 0, \"ticks\": \"\"}, \"colorscale\": [[0.0, \"#0d0887\"], [0.1111111111111111, \"#46039f\"], [0.2222222222222222, \"#7201a8\"], [0.3333333333333333, \"#9c179e\"], [0.4444444444444444, \"#bd3786\"], [0.5555555555555556, \"#d8576b\"], [0.6666666666666666, \"#ed7953\"], [0.7777777777777778, \"#fb9f3a\"], [0.8888888888888888, \"#fdca26\"], [1.0, \"#f0f921\"]], \"type\": \"surface\"}], \"table\": [{\"cells\": {\"fill\": {\"color\": \"#EBF0F8\"}, \"line\": {\"color\": \"white\"}}, \"header\": {\"fill\": {\"color\": \"#C8D4E3\"}, \"line\": {\"color\": \"white\"}}, \"type\": \"table\"}]}, \"layout\": {\"annotationdefaults\": {\"arrowcolor\": \"#2a3f5f\", \"arrowhead\": 0, \"arrowwidth\": 1}, \"coloraxis\": {\"colorbar\": {\"outlinewidth\": 0, \"ticks\": \"\"}}, \"colorscale\": {\"diverging\": [[0, \"#8e0152\"], [0.1, \"#c51b7d\"], [0.2, \"#de77ae\"], [0.3, \"#f1b6da\"], [0.4, \"#fde0ef\"], [0.5, \"#f7f7f7\"], [0.6, \"#e6f5d0\"], [0.7, \"#b8e186\"], [0.8, \"#7fbc41\"], [0.9, \"#4d9221\"], [1, \"#276419\"]], \"sequential\": [[0.0, \"#0d0887\"], [0.1111111111111111, \"#46039f\"], [0.2222222222222222, \"#7201a8\"], [0.3333333333333333, \"#9c179e\"], [0.4444444444444444, \"#bd3786\"], [0.5555555555555556, \"#d8576b\"], [0.6666666666666666, \"#ed7953\"], [0.7777777777777778, \"#fb9f3a\"], [0.8888888888888888, \"#fdca26\"], [1.0, \"#f0f921\"]], \"sequentialminus\": [[0.0, \"#0d0887\"], [0.1111111111111111, \"#46039f\"], [0.2222222222222222, \"#7201a8\"], [0.3333333333333333, \"#9c179e\"], [0.4444444444444444, \"#bd3786\"], [0.5555555555555556, \"#d8576b\"], [0.6666666666666666, \"#ed7953\"], [0.7777777777777778, \"#fb9f3a\"], [0.8888888888888888, \"#fdca26\"], [1.0, \"#f0f921\"]]}, \"colorway\": [\"#636efa\", \"#EF553B\", \"#00cc96\", \"#ab63fa\", \"#FFA15A\", \"#19d3f3\", \"#FF6692\", \"#B6E880\", \"#FF97FF\", \"#FECB52\"], \"font\": {\"color\": \"#2a3f5f\"}, \"geo\": {\"bgcolor\": \"white\", \"lakecolor\": \"white\", \"landcolor\": \"#E5ECF6\", \"showlakes\": true, \"showland\": true, \"subunitcolor\": \"white\"}, \"hoverlabel\": {\"align\": \"left\"}, \"hovermode\": \"closest\", \"mapbox\": {\"style\": \"light\"}, \"paper_bgcolor\": \"white\", \"plot_bgcolor\": \"#E5ECF6\", \"polar\": {\"angularaxis\": {\"gridcolor\": \"white\", \"linecolor\": \"white\", \"ticks\": \"\"}, \"bgcolor\": \"#E5ECF6\", \"radialaxis\": {\"gridcolor\": \"white\", \"linecolor\": \"white\", \"ticks\": \"\"}}, \"scene\": {\"xaxis\": {\"backgroundcolor\": \"#E5ECF6\", \"gridcolor\": \"white\", \"gridwidth\": 2, \"linecolor\": \"white\", \"showbackground\": true, \"ticks\": \"\", \"zerolinecolor\": \"white\"}, \"yaxis\": {\"backgroundcolor\": \"#E5ECF6\", \"gridcolor\": \"white\", \"gridwidth\": 2, \"linecolor\": \"white\", \"showbackground\": true, \"ticks\": \"\", \"zerolinecolor\": \"white\"}, \"zaxis\": {\"backgroundcolor\": \"#E5ECF6\", \"gridcolor\": \"white\", \"gridwidth\": 2, \"linecolor\": \"white\", \"showbackground\": true, \"ticks\": \"\", \"zerolinecolor\": \"white\"}}, \"shapedefaults\": {\"line\": {\"color\": \"#2a3f5f\"}}, \"ternary\": {\"aaxis\": {\"gridcolor\": \"white\", \"linecolor\": \"white\", \"ticks\": \"\"}, \"baxis\": {\"gridcolor\": \"white\", \"linecolor\": \"white\", \"ticks\": \"\"}, \"bgcolor\": \"#E5ECF6\", \"caxis\": {\"gridcolor\": \"white\", \"linecolor\": \"white\", \"ticks\": \"\"}}, \"title\": {\"x\": 0.05}, \"xaxis\": {\"automargin\": true, \"gridcolor\": \"white\", \"linecolor\": \"white\", \"ticks\": \"\", \"title\": {\"standoff\": 15}, \"zerolinecolor\": \"white\", \"zerolinewidth\": 2}, \"yaxis\": {\"automargin\": true, \"gridcolor\": \"white\", \"linecolor\": \"white\", \"ticks\": \"\", \"title\": {\"standoff\": 15}, \"zerolinecolor\": \"white\", \"zerolinewidth\": 2}}}},\n",
              "                        {\"responsive\": true}\n",
              "                    ).then(function(){\n",
              "                            \n",
              "var gd = document.getElementById('fd01ac66-a439-438b-82fd-1c1df9ea7ae0');\n",
              "var x = new MutationObserver(function (mutations, observer) {{\n",
              "        var display = window.getComputedStyle(gd).display;\n",
              "        if (!display || display === 'none') {{\n",
              "            console.log([gd, 'removed!']);\n",
              "            Plotly.purge(gd);\n",
              "            observer.disconnect();\n",
              "        }}\n",
              "}});\n",
              "\n",
              "// Listen for the removal of the full notebook cells\n",
              "var notebookContainer = gd.closest('#notebook-container');\n",
              "if (notebookContainer) {{\n",
              "    x.observe(notebookContainer, {childList: true});\n",
              "}}\n",
              "\n",
              "// Listen for the clearing of the current output cell\n",
              "var outputEl = gd.closest('.output');\n",
              "if (outputEl) {{\n",
              "    x.observe(outputEl, {childList: true});\n",
              "}}\n",
              "\n",
              "                        })\n",
              "                };\n",
              "                \n",
              "            </script>\n",
              "        </div>\n",
              "</body>\n",
              "</html>"
            ]
          },
          "metadata": {
            "tags": []
          }
        }
      ]
    },
    {
      "cell_type": "markdown",
      "metadata": {
        "id": "Pk4fcFsC_P-b"
      },
      "source": [
        "We consider height and weight may exists perfect multicollinearity, which means these two variables have very close linear relationshp.\n",
        "Although the mean sqaured error is larger than last model, we notice the predicted line fits the true value better. We will continune on the omitted variables later on..."
      ]
    },
    {
      "cell_type": "code",
      "metadata": {
        "id": "m8BwR5MMBREB"
      },
      "source": [
        ""
      ],
      "execution_count": null,
      "outputs": []
    }
  ]
}